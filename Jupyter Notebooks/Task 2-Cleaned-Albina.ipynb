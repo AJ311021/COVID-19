{
 "cells": [
  {
   "cell_type": "markdown",
   "id": "c839e59b",
   "metadata": {},
   "source": [
    "## Albina Jetybayeva. DSE511. Project 1.\n",
    "\n",
    "\n",
    "# Task 2. Analyze Delta variant situation in India and the USA\n",
    "\n",
    "From the previous task, it was observed how very contagious strains like Delta can affect even highly vaccinated countries like Israel. It was interesting to see the direct effect of Delta on covid cases number before and after detecting the first Delta case in countries like the USA and India. To compare the countries in a more fair way incident rate was chosen for the analysis."
   ]
  },
  {
   "cell_type": "code",
   "execution_count": 52,
   "id": "47fbdf37",
   "metadata": {},
   "outputs": [],
   "source": [
    "#First load the necessary packages:\n",
    "\n",
    "import pandas as pd\n",
    "import numpy as np\n",
    "import matplotlib as mpl\n",
    "import matplotlib.pyplot as plt"
   ]
  },
  {
   "cell_type": "code",
   "execution_count": 53,
   "id": "c3c12487",
   "metadata": {},
   "outputs": [
    {
     "data": {
      "text/html": [
       "<div>\n",
       "<style scoped>\n",
       "    .dataframe tbody tr th:only-of-type {\n",
       "        vertical-align: middle;\n",
       "    }\n",
       "\n",
       "    .dataframe tbody tr th {\n",
       "        vertical-align: top;\n",
       "    }\n",
       "\n",
       "    .dataframe thead th {\n",
       "        text-align: right;\n",
       "    }\n",
       "</style>\n",
       "<table border=\"1\" class=\"dataframe\">\n",
       "  <thead>\n",
       "    <tr style=\"text-align: right;\">\n",
       "      <th></th>\n",
       "      <th>Province/State</th>\n",
       "      <th>Country/Region</th>\n",
       "      <th>Lat</th>\n",
       "      <th>Long</th>\n",
       "      <th>1/22/20</th>\n",
       "      <th>1/23/20</th>\n",
       "      <th>1/24/20</th>\n",
       "      <th>1/25/20</th>\n",
       "      <th>1/26/20</th>\n",
       "      <th>1/27/20</th>\n",
       "      <th>...</th>\n",
       "      <th>8/29/21</th>\n",
       "      <th>8/30/21</th>\n",
       "      <th>8/31/21</th>\n",
       "      <th>9/1/21</th>\n",
       "      <th>9/2/21</th>\n",
       "      <th>9/3/21</th>\n",
       "      <th>9/4/21</th>\n",
       "      <th>9/5/21</th>\n",
       "      <th>9/6/21</th>\n",
       "      <th>9/7/21</th>\n",
       "    </tr>\n",
       "  </thead>\n",
       "  <tbody>\n",
       "    <tr>\n",
       "      <th>0</th>\n",
       "      <td>NaN</td>\n",
       "      <td>Afghanistan</td>\n",
       "      <td>33.93911</td>\n",
       "      <td>67.709953</td>\n",
       "      <td>0</td>\n",
       "      <td>0</td>\n",
       "      <td>0</td>\n",
       "      <td>0</td>\n",
       "      <td>0</td>\n",
       "      <td>0</td>\n",
       "      <td>...</td>\n",
       "      <td>152960</td>\n",
       "      <td>153148</td>\n",
       "      <td>153220</td>\n",
       "      <td>153260</td>\n",
       "      <td>153306</td>\n",
       "      <td>153375</td>\n",
       "      <td>153375</td>\n",
       "      <td>153375</td>\n",
       "      <td>153534</td>\n",
       "      <td>153626</td>\n",
       "    </tr>\n",
       "    <tr>\n",
       "      <th>1</th>\n",
       "      <td>NaN</td>\n",
       "      <td>Albania</td>\n",
       "      <td>41.15330</td>\n",
       "      <td>20.168300</td>\n",
       "      <td>0</td>\n",
       "      <td>0</td>\n",
       "      <td>0</td>\n",
       "      <td>0</td>\n",
       "      <td>0</td>\n",
       "      <td>0</td>\n",
       "      <td>...</td>\n",
       "      <td>144847</td>\n",
       "      <td>145333</td>\n",
       "      <td>146387</td>\n",
       "      <td>147369</td>\n",
       "      <td>148222</td>\n",
       "      <td>149117</td>\n",
       "      <td>150101</td>\n",
       "      <td>150997</td>\n",
       "      <td>151499</td>\n",
       "      <td>152239</td>\n",
       "    </tr>\n",
       "    <tr>\n",
       "      <th>2</th>\n",
       "      <td>NaN</td>\n",
       "      <td>Algeria</td>\n",
       "      <td>28.03390</td>\n",
       "      <td>1.659600</td>\n",
       "      <td>0</td>\n",
       "      <td>0</td>\n",
       "      <td>0</td>\n",
       "      <td>0</td>\n",
       "      <td>0</td>\n",
       "      <td>0</td>\n",
       "      <td>...</td>\n",
       "      <td>195162</td>\n",
       "      <td>195574</td>\n",
       "      <td>196080</td>\n",
       "      <td>196527</td>\n",
       "      <td>196915</td>\n",
       "      <td>197308</td>\n",
       "      <td>197659</td>\n",
       "      <td>198004</td>\n",
       "      <td>198313</td>\n",
       "      <td>198645</td>\n",
       "    </tr>\n",
       "    <tr>\n",
       "      <th>3</th>\n",
       "      <td>NaN</td>\n",
       "      <td>Andorra</td>\n",
       "      <td>42.50630</td>\n",
       "      <td>1.521800</td>\n",
       "      <td>0</td>\n",
       "      <td>0</td>\n",
       "      <td>0</td>\n",
       "      <td>0</td>\n",
       "      <td>0</td>\n",
       "      <td>0</td>\n",
       "      <td>...</td>\n",
       "      <td>15025</td>\n",
       "      <td>15032</td>\n",
       "      <td>15033</td>\n",
       "      <td>15046</td>\n",
       "      <td>15052</td>\n",
       "      <td>15055</td>\n",
       "      <td>15055</td>\n",
       "      <td>15055</td>\n",
       "      <td>15069</td>\n",
       "      <td>15070</td>\n",
       "    </tr>\n",
       "    <tr>\n",
       "      <th>4</th>\n",
       "      <td>NaN</td>\n",
       "      <td>Angola</td>\n",
       "      <td>-11.20270</td>\n",
       "      <td>17.873900</td>\n",
       "      <td>0</td>\n",
       "      <td>0</td>\n",
       "      <td>0</td>\n",
       "      <td>0</td>\n",
       "      <td>0</td>\n",
       "      <td>0</td>\n",
       "      <td>...</td>\n",
       "      <td>47168</td>\n",
       "      <td>47331</td>\n",
       "      <td>47544</td>\n",
       "      <td>47781</td>\n",
       "      <td>48004</td>\n",
       "      <td>48261</td>\n",
       "      <td>48475</td>\n",
       "      <td>48656</td>\n",
       "      <td>48790</td>\n",
       "      <td>49114</td>\n",
       "    </tr>\n",
       "  </tbody>\n",
       "</table>\n",
       "<p>5 rows × 599 columns</p>\n",
       "</div>"
      ],
      "text/plain": [
       "  Province/State Country/Region       Lat       Long  1/22/20  1/23/20  \\\n",
       "0            NaN    Afghanistan  33.93911  67.709953        0        0   \n",
       "1            NaN        Albania  41.15330  20.168300        0        0   \n",
       "2            NaN        Algeria  28.03390   1.659600        0        0   \n",
       "3            NaN        Andorra  42.50630   1.521800        0        0   \n",
       "4            NaN         Angola -11.20270  17.873900        0        0   \n",
       "\n",
       "   1/24/20  1/25/20  1/26/20  1/27/20  ...  8/29/21  8/30/21  8/31/21  9/1/21  \\\n",
       "0        0        0        0        0  ...   152960   153148   153220  153260   \n",
       "1        0        0        0        0  ...   144847   145333   146387  147369   \n",
       "2        0        0        0        0  ...   195162   195574   196080  196527   \n",
       "3        0        0        0        0  ...    15025    15032    15033   15046   \n",
       "4        0        0        0        0  ...    47168    47331    47544   47781   \n",
       "\n",
       "   9/2/21  9/3/21  9/4/21  9/5/21  9/6/21  9/7/21  \n",
       "0  153306  153375  153375  153375  153534  153626  \n",
       "1  148222  149117  150101  150997  151499  152239  \n",
       "2  196915  197308  197659  198004  198313  198645  \n",
       "3   15052   15055   15055   15055   15069   15070  \n",
       "4   48004   48261   48475   48656   48790   49114  \n",
       "\n",
       "[5 rows x 599 columns]"
      ]
     },
     "execution_count": 53,
     "metadata": {},
     "output_type": "execute_result"
    }
   ],
   "source": [
    "#Extract data from the file to see the overall confirmed cases trends for both countries:\n",
    "data_confirmed = pd.read_csv('time_series_covid19_confirmed_global.csv')\n",
    "data_confirmed.head()"
   ]
  },
  {
   "cell_type": "code",
   "execution_count": 54,
   "id": "52b8284e",
   "metadata": {},
   "outputs": [
    {
     "data": {
      "text/html": [
       "<div>\n",
       "<style scoped>\n",
       "    .dataframe tbody tr th:only-of-type {\n",
       "        vertical-align: middle;\n",
       "    }\n",
       "\n",
       "    .dataframe tbody tr th {\n",
       "        vertical-align: top;\n",
       "    }\n",
       "\n",
       "    .dataframe thead th {\n",
       "        text-align: right;\n",
       "    }\n",
       "</style>\n",
       "<table border=\"1\" class=\"dataframe\">\n",
       "  <thead>\n",
       "    <tr style=\"text-align: right;\">\n",
       "      <th></th>\n",
       "      <th>Country/Region</th>\n",
       "      <th>1/22/20</th>\n",
       "      <th>1/23/20</th>\n",
       "      <th>1/24/20</th>\n",
       "      <th>1/25/20</th>\n",
       "      <th>1/26/20</th>\n",
       "      <th>1/27/20</th>\n",
       "      <th>1/28/20</th>\n",
       "      <th>1/29/20</th>\n",
       "      <th>1/30/20</th>\n",
       "      <th>...</th>\n",
       "      <th>8/29/21</th>\n",
       "      <th>8/30/21</th>\n",
       "      <th>8/31/21</th>\n",
       "      <th>9/1/21</th>\n",
       "      <th>9/2/21</th>\n",
       "      <th>9/3/21</th>\n",
       "      <th>9/4/21</th>\n",
       "      <th>9/5/21</th>\n",
       "      <th>9/6/21</th>\n",
       "      <th>9/7/21</th>\n",
       "    </tr>\n",
       "  </thead>\n",
       "  <tbody>\n",
       "    <tr>\n",
       "      <th>0</th>\n",
       "      <td>Afghanistan</td>\n",
       "      <td>0</td>\n",
       "      <td>0</td>\n",
       "      <td>0</td>\n",
       "      <td>0</td>\n",
       "      <td>0</td>\n",
       "      <td>0</td>\n",
       "      <td>0</td>\n",
       "      <td>0</td>\n",
       "      <td>0</td>\n",
       "      <td>...</td>\n",
       "      <td>152960</td>\n",
       "      <td>153148</td>\n",
       "      <td>153220</td>\n",
       "      <td>153260</td>\n",
       "      <td>153306</td>\n",
       "      <td>153375</td>\n",
       "      <td>153375</td>\n",
       "      <td>153375</td>\n",
       "      <td>153534</td>\n",
       "      <td>153626</td>\n",
       "    </tr>\n",
       "    <tr>\n",
       "      <th>1</th>\n",
       "      <td>Albania</td>\n",
       "      <td>0</td>\n",
       "      <td>0</td>\n",
       "      <td>0</td>\n",
       "      <td>0</td>\n",
       "      <td>0</td>\n",
       "      <td>0</td>\n",
       "      <td>0</td>\n",
       "      <td>0</td>\n",
       "      <td>0</td>\n",
       "      <td>...</td>\n",
       "      <td>144847</td>\n",
       "      <td>145333</td>\n",
       "      <td>146387</td>\n",
       "      <td>147369</td>\n",
       "      <td>148222</td>\n",
       "      <td>149117</td>\n",
       "      <td>150101</td>\n",
       "      <td>150997</td>\n",
       "      <td>151499</td>\n",
       "      <td>152239</td>\n",
       "    </tr>\n",
       "    <tr>\n",
       "      <th>2</th>\n",
       "      <td>Algeria</td>\n",
       "      <td>0</td>\n",
       "      <td>0</td>\n",
       "      <td>0</td>\n",
       "      <td>0</td>\n",
       "      <td>0</td>\n",
       "      <td>0</td>\n",
       "      <td>0</td>\n",
       "      <td>0</td>\n",
       "      <td>0</td>\n",
       "      <td>...</td>\n",
       "      <td>195162</td>\n",
       "      <td>195574</td>\n",
       "      <td>196080</td>\n",
       "      <td>196527</td>\n",
       "      <td>196915</td>\n",
       "      <td>197308</td>\n",
       "      <td>197659</td>\n",
       "      <td>198004</td>\n",
       "      <td>198313</td>\n",
       "      <td>198645</td>\n",
       "    </tr>\n",
       "    <tr>\n",
       "      <th>3</th>\n",
       "      <td>Andorra</td>\n",
       "      <td>0</td>\n",
       "      <td>0</td>\n",
       "      <td>0</td>\n",
       "      <td>0</td>\n",
       "      <td>0</td>\n",
       "      <td>0</td>\n",
       "      <td>0</td>\n",
       "      <td>0</td>\n",
       "      <td>0</td>\n",
       "      <td>...</td>\n",
       "      <td>15025</td>\n",
       "      <td>15032</td>\n",
       "      <td>15033</td>\n",
       "      <td>15046</td>\n",
       "      <td>15052</td>\n",
       "      <td>15055</td>\n",
       "      <td>15055</td>\n",
       "      <td>15055</td>\n",
       "      <td>15069</td>\n",
       "      <td>15070</td>\n",
       "    </tr>\n",
       "    <tr>\n",
       "      <th>4</th>\n",
       "      <td>Angola</td>\n",
       "      <td>0</td>\n",
       "      <td>0</td>\n",
       "      <td>0</td>\n",
       "      <td>0</td>\n",
       "      <td>0</td>\n",
       "      <td>0</td>\n",
       "      <td>0</td>\n",
       "      <td>0</td>\n",
       "      <td>0</td>\n",
       "      <td>...</td>\n",
       "      <td>47168</td>\n",
       "      <td>47331</td>\n",
       "      <td>47544</td>\n",
       "      <td>47781</td>\n",
       "      <td>48004</td>\n",
       "      <td>48261</td>\n",
       "      <td>48475</td>\n",
       "      <td>48656</td>\n",
       "      <td>48790</td>\n",
       "      <td>49114</td>\n",
       "    </tr>\n",
       "  </tbody>\n",
       "</table>\n",
       "<p>5 rows × 596 columns</p>\n",
       "</div>"
      ],
      "text/plain": [
       "  Country/Region  1/22/20  1/23/20  1/24/20  1/25/20  1/26/20  1/27/20  \\\n",
       "0    Afghanistan        0        0        0        0        0        0   \n",
       "1        Albania        0        0        0        0        0        0   \n",
       "2        Algeria        0        0        0        0        0        0   \n",
       "3        Andorra        0        0        0        0        0        0   \n",
       "4         Angola        0        0        0        0        0        0   \n",
       "\n",
       "   1/28/20  1/29/20  1/30/20  ...  8/29/21  8/30/21  8/31/21  9/1/21  9/2/21  \\\n",
       "0        0        0        0  ...   152960   153148   153220  153260  153306   \n",
       "1        0        0        0  ...   144847   145333   146387  147369  148222   \n",
       "2        0        0        0  ...   195162   195574   196080  196527  196915   \n",
       "3        0        0        0  ...    15025    15032    15033   15046   15052   \n",
       "4        0        0        0  ...    47168    47331    47544   47781   48004   \n",
       "\n",
       "   9/3/21  9/4/21  9/5/21  9/6/21  9/7/21  \n",
       "0  153375  153375  153375  153534  153626  \n",
       "1  149117  150101  150997  151499  152239  \n",
       "2  197308  197659  198004  198313  198645  \n",
       "3   15055   15055   15055   15069   15070  \n",
       "4   48261   48475   48656   48790   49114  \n",
       "\n",
       "[5 rows x 596 columns]"
      ]
     },
     "execution_count": 54,
     "metadata": {},
     "output_type": "execute_result"
    }
   ],
   "source": [
    "#Remove unneccessary information such as Longtidue and Lattitude\n",
    "data_confirmed.drop(['Lat','Long', 'Province/State'],axis=1, inplace=True)\n",
    "data_confirmed.head()"
   ]
  },
  {
   "cell_type": "code",
   "execution_count": 55,
   "id": "23190612",
   "metadata": {},
   "outputs": [
    {
     "name": "stdout",
     "output_type": "stream",
     "text": [
      "1/22/20           0\n",
      "1/23/20           0\n",
      "1/24/20           0\n",
      "1/25/20           0\n",
      "1/26/20           0\n",
      "             ...   \n",
      "9/3/21     32945907\n",
      "9/4/21     32988673\n",
      "9/5/21     33027621\n",
      "9/6/21     33058843\n",
      "9/7/21     33096718\n",
      "Name: India, Length: 595, dtype: int64\n",
      "1/22/20           1\n",
      "1/23/20           1\n",
      "1/24/20           2\n",
      "1/25/20           2\n",
      "1/26/20           5\n",
      "             ...   \n",
      "9/3/21     39850260\n",
      "9/4/21     39906431\n",
      "9/5/21     39944992\n",
      "9/6/21     40018318\n",
      "9/7/21     40280001\n",
      "Name: US, Length: 595, dtype: int64\n"
     ]
    }
   ],
   "source": [
    "#Extract information for US and India\n",
    "\n",
    "data_confirmed.set_index(\"Country/Region\", inplace = True)\n",
    "result_india = data_confirmed.loc[\"India\"]\n",
    "print(result_india)\n",
    "result_us = data_confirmed.loc[\"US\"]\n",
    "print(result_us)"
   ]
  },
  {
   "cell_type": "code",
   "execution_count": 56,
   "id": "97a265e9",
   "metadata": {},
   "outputs": [
    {
     "data": {
      "image/png": "[encoded data removed]",
      "text/plain": [
       "<Figure size 432x288 with 1 Axes>"
      ]
     },
     "metadata": {},
     "output_type": "display_data"
    }
   ],
   "source": [
    "#Plot the confirmed cases for India and US and observe features:\n",
    "\n",
    "mpl.style.use(['ggplot']) #use ggplot style\n",
    "\n",
    "result_india.plot(kind='line', color='orange')\n",
    "result_us.plot(kind='line', color='red')\n",
    "\n",
    "\n",
    "plt.title('Confirmed Covid-19 cases in the USA and India', fontsize=12)\n",
    "plt.xlabel('Date MM/DD/YY')\n",
    "plt.ylabel('Number of cases')\n",
    "\n",
    "#Annotate the trend change on the graph from the first observation\n",
    "\n",
    "plt.text(150, 40000000, 'Delta variant is predominant')\n",
    "plt.arrow(350, 39000000, 120, -15000000, width = 1.5, ec='black', head_width = 20)\n",
    "plt.arrow(350, 39000000, 200, -3000000, width = 1.5, ec='black', head_width = 20)\n",
    "\n",
    "\n",
    "plt.show()"
   ]
  },
  {
   "cell_type": "markdown",
   "id": "bbe6332c",
   "metadata": {},
   "source": [
    "## Assumptions:\n",
    "\n",
    "* Taking the period of heavy surge and predominance of Delta variant as the beginning of May for India (based on reference).\n",
    "* Taking the period of heavy surge and predominance of Delta variant as the end of August for the USA (based on reference).\n",
    "\n",
    "* So the periods of comparison for India were 2 months before Delta surge (03/01/2021-03/07/2021) and after (05/01/2021-05/07/2021).\n",
    "* So the periods of comparison for the USA were 2 months before Delta surge (06/21/2021-06/27/2021) and after (09/21/2021-06/27/2021).\n"
   ]
  },
  {
   "cell_type": "markdown",
   "id": "c3d3d209",
   "metadata": {},
   "source": [
    "## Part 1. India case"
   ]
  },
  {
   "cell_type": "code",
   "execution_count": 57,
   "id": "572abc51",
   "metadata": {},
   "outputs": [
    {
     "name": "stdout",
     "output_type": "stream",
     "text": [
      "41230.2854591582\n"
     ]
    }
   ],
   "source": [
    "#India incident rate on each specific day before delta surge March 1-7. March 1:\n",
    "\n",
    "data1_india = pd.read_csv('03-01-2021.csv')\n",
    "#data1_india.head() (used to check the data)\n",
    "\n",
    "data1_india.set_index(\"Country_Region\", inplace = True)\n",
    "d1_i=data1_india.loc[\"India\",\"Incident_Rate\"]\n",
    "#print(d1_i) (used to check the data)\n",
    "d1_isum=d1_i.sum()\n",
    "print(d1_isum)"
   ]
  },
  {
   "cell_type": "code",
   "execution_count": 58,
   "id": "0fb0ef73",
   "metadata": {},
   "outputs": [
    {
     "name": "stdout",
     "output_type": "stream",
     "text": [
      "41282.37769167526\n"
     ]
    }
   ],
   "source": [
    "# Same for other days. March 2:\n",
    "\n",
    "data2_india = pd.read_csv('03-02-2021.csv')\n",
    "#data2_india.head() (used to check the data)\n",
    "\n",
    "data2_india.set_index(\"Country_Region\", inplace = True)\n",
    "d2_i=data2_india.loc[\"India\",\"Incident_Rate\"]\n",
    "#print(d2_i) (used to check the data)\n",
    "d2_isum=d2_i.sum()\n",
    "print(d2_isum)"
   ]
  },
  {
   "cell_type": "code",
   "execution_count": 59,
   "id": "7e48be17",
   "metadata": {},
   "outputs": [
    {
     "name": "stdout",
     "output_type": "stream",
     "text": [
      "41333.11206745903\n"
     ]
    }
   ],
   "source": [
    "# Same for other days. March 3:\n",
    "\n",
    "data3_india = pd.read_csv('03-03-2021.csv')\n",
    "#data3_india.head() (used to check the data)\n",
    "\n",
    "data3_india.set_index(\"Country_Region\", inplace = True)\n",
    "d3_i=data3_india.loc[\"India\",\"Incident_Rate\"]\n",
    "#print(d3_i) (used to check the data)\n",
    "d3_isum=d3_i.sum()\n",
    "print(d3_isum)"
   ]
  },
  {
   "cell_type": "code",
   "execution_count": 60,
   "id": "92031c35",
   "metadata": {},
   "outputs": [
    {
     "name": "stdout",
     "output_type": "stream",
     "text": [
      "41392.95530634332\n"
     ]
    }
   ],
   "source": [
    "# Same for other days. March 4:\n",
    "\n",
    "data4_india = pd.read_csv('03-04-2021.csv')\n",
    "#data4_india.head() (used to check the data)\n",
    "\n",
    "data4_india.set_index(\"Country_Region\", inplace = True)\n",
    "d4_i=data4_india.loc[\"India\",\"Incident_Rate\"]\n",
    "#print(d4_i) (used to check the data)\n",
    "d4_isum=d4_i.sum()\n",
    "print(d4_isum)"
   ]
  },
  {
   "cell_type": "code",
   "execution_count": 61,
   "id": "df515e53",
   "metadata": {},
   "outputs": [
    {
     "name": "stdout",
     "output_type": "stream",
     "text": [
      "41503.60967564981\n"
     ]
    }
   ],
   "source": [
    "# Same for other days. March 5:\n",
    "\n",
    "data5_india = pd.read_csv('03-05-2021.csv')\n",
    "#data5_india.head() (used to check the data)\n",
    "\n",
    "data5_india.set_index(\"Country_Region\", inplace = True)\n",
    "d5_i=data5_india.loc[\"India\",\"Incident_Rate\"]\n",
    "#print(d5_i) (used to check the data)\n",
    "d5_isum=d5_i.sum()\n",
    "print(d5_isum)"
   ]
  },
  {
   "cell_type": "code",
   "execution_count": 62,
   "id": "cc4ff585",
   "metadata": {},
   "outputs": [
    {
     "name": "stdout",
     "output_type": "stream",
     "text": [
      "41561.06198265476\n"
     ]
    }
   ],
   "source": [
    "# Same for other days. March 6:\n",
    "\n",
    "data6_india = pd.read_csv('03-06-2021.csv')\n",
    "#data6_india.head() (used to check the data)\n",
    "\n",
    "data6_india.set_index(\"Country_Region\", inplace = True)\n",
    "d6_i=data6_india.loc[\"India\",\"Incident_Rate\"]\n",
    "#print(d6_i) (used to check the data)\n",
    "d6_isum=d6_i.sum()\n",
    "print(d6_isum)"
   ]
  },
  {
   "cell_type": "code",
   "execution_count": 63,
   "id": "d6d13044",
   "metadata": {},
   "outputs": [
    {
     "name": "stdout",
     "output_type": "stream",
     "text": [
      "41624.14913902527\n"
     ]
    }
   ],
   "source": [
    "# Same for other days. March 7:\n",
    "\n",
    "data7_india = pd.read_csv('03-07-2021.csv')\n",
    "#data7_india.head() (used to check the data)\n",
    "\n",
    "data7_india.set_index(\"Country_Region\", inplace = True)\n",
    "d7_i=data7_india.loc[\"India\",\"Incident_Rate\"]\n",
    "#print(d7_i) (used to check the data)\n",
    "d7_isum=d7_i.sum()\n",
    "print(d7_isum)"
   ]
  },
  {
   "cell_type": "code",
   "execution_count": 64,
   "id": "47233577",
   "metadata": {},
   "outputs": [
    {
     "name": "stdout",
     "output_type": "stream",
     "text": [
      "70142.86568164977\n"
     ]
    }
   ],
   "source": [
    "#India incident rate on each specific day after delta surge May 1-7. May 1:\n",
    "\n",
    "data51_india = pd.read_csv('05-01-2021.csv')\n",
    "#data51_india.head() (used to check the data)\n",
    "\n",
    "data51_india.set_index(\"Country_Region\", inplace = True)\n",
    "d51_i=data51_india.loc[\"India\",\"Incident_Rate\"]\n",
    "#print(d51_i)(used to check the data)\n",
    "d51_isum=d51_i.sum()\n",
    "print(d51_isum)"
   ]
  },
  {
   "cell_type": "code",
   "execution_count": 65,
   "id": "3f0591ba",
   "metadata": {},
   "outputs": [
    {
     "name": "stdout",
     "output_type": "stream",
     "text": [
      "71479.34027944143\n"
     ]
    }
   ],
   "source": [
    "# Same for other days. May 2:\n",
    "\n",
    "data52_india = pd.read_csv('05-02-2021.csv')\n",
    "#data52_india.head() (used to check the data)\n",
    "\n",
    "data52_india.set_index(\"Country_Region\", inplace = True)\n",
    "d52_i=data52_india.loc[\"India\",\"Incident_Rate\"]\n",
    "#print(d52_i) (used to check the data)\n",
    "d52_isum=d52_i.sum()\n",
    "print(d52_isum)"
   ]
  },
  {
   "cell_type": "code",
   "execution_count": 66,
   "id": "939c26a6",
   "metadata": {},
   "outputs": [
    {
     "name": "stdout",
     "output_type": "stream",
     "text": [
      "72755.26621060548\n"
     ]
    }
   ],
   "source": [
    "# Same for other days. May 3:\n",
    "\n",
    "data53_india = pd.read_csv('05-03-2021.csv')\n",
    "#data53_india.head() (used to check the data)\n",
    "\n",
    "data53_india.set_index(\"Country_Region\", inplace = True)\n",
    "d53_i=data53_india.loc[\"India\",\"Incident_Rate\"]\n",
    "#print(d53_i) (used to check the data)\n",
    "d53_isum=d53_i.sum()\n",
    "print(d53_isum)"
   ]
  },
  {
   "cell_type": "code",
   "execution_count": 67,
   "id": "402f50df",
   "metadata": {},
   "outputs": [
    {
     "name": "stdout",
     "output_type": "stream",
     "text": [
      "74399.56165995607\n"
     ]
    }
   ],
   "source": [
    "# Same for other days. May 4:\n",
    "\n",
    "data54_india = pd.read_csv('05-04-2021.csv')\n",
    "#data54_india.head() (used to check the data)\n",
    "\n",
    "data54_india.set_index(\"Country_Region\", inplace = True)\n",
    "d54_i=data54_india.loc[\"India\",\"Incident_Rate\"]\n",
    "#print(d54_i) (used to check the data)\n",
    "d54_isum=d54_i.sum()\n",
    "print(d54_isum)"
   ]
  },
  {
   "cell_type": "code",
   "execution_count": 68,
   "id": "24e65f8d",
   "metadata": {},
   "outputs": [
    {
     "name": "stdout",
     "output_type": "stream",
     "text": [
      "76116.24308018167\n"
     ]
    }
   ],
   "source": [
    "# Same for other days. May 5:\n",
    "\n",
    "data55_india = pd.read_csv('05-05-2021.csv')\n",
    "#data55_india.head() (used to check the data)\n",
    "\n",
    "data55_india.set_index(\"Country_Region\", inplace = True)\n",
    "d55_i=data55_india.loc[\"India\",\"Incident_Rate\"]\n",
    "#print(d55_i) (used to check the data)\n",
    "d55_isum=d55_i.sum()\n",
    "print(d55_isum)"
   ]
  },
  {
   "cell_type": "code",
   "execution_count": 69,
   "id": "f8269802",
   "metadata": {},
   "outputs": [
    {
     "name": "stdout",
     "output_type": "stream",
     "text": [
      "77827.79314612031\n"
     ]
    }
   ],
   "source": [
    "# Same for other days. May 6:\n",
    "\n",
    "data56_india = pd.read_csv('05-06-2021.csv')\n",
    "#data56_india.head() (used to check the data)\n",
    "\n",
    "data56_india.set_index(\"Country_Region\", inplace = True)\n",
    "d56_i=data56_india.loc[\"India\",\"Incident_Rate\"]\n",
    "#print(d56_i) (used to check the data)\n",
    "d56_isum=d56_i.sum()\n",
    "print(d56_isum)"
   ]
  },
  {
   "cell_type": "code",
   "execution_count": 70,
   "id": "6cbd0a3d",
   "metadata": {},
   "outputs": [
    {
     "name": "stdout",
     "output_type": "stream",
     "text": [
      "79507.75632523422\n"
     ]
    }
   ],
   "source": [
    "# Same for other days. May 7:\n",
    "\n",
    "data57_india = pd.read_csv('05-07-2021.csv')\n",
    "#data57_india.head() (used to check the data)\n",
    "\n",
    "data57_india.set_index(\"Country_Region\", inplace = True)\n",
    "d57_i=data57_india.loc[\"India\",\"Incident_Rate\"]\n",
    "#print(d57_i) (used to check the data)\n",
    "d57_isum=d57_i.sum()\n",
    "print(d57_isum)"
   ]
  },
  {
   "cell_type": "code",
   "execution_count": 71,
   "id": "6118c6a4",
   "metadata": {},
   "outputs": [
    {
     "data": {
      "text/html": [
       "<div>\n",
       "<style scoped>\n",
       "    .dataframe tbody tr th:only-of-type {\n",
       "        vertical-align: middle;\n",
       "    }\n",
       "\n",
       "    .dataframe tbody tr th {\n",
       "        vertical-align: top;\n",
       "    }\n",
       "\n",
       "    .dataframe thead th {\n",
       "        text-align: right;\n",
       "    }\n",
       "</style>\n",
       "<table border=\"1\" class=\"dataframe\">\n",
       "  <thead>\n",
       "    <tr style=\"text-align: right;\">\n",
       "      <th></th>\n",
       "      <th>Day</th>\n",
       "      <th>Incident rate before Delta surge</th>\n",
       "      <th>Incident rate after Delta surge</th>\n",
       "    </tr>\n",
       "  </thead>\n",
       "  <tbody>\n",
       "    <tr>\n",
       "      <th>0</th>\n",
       "      <td>1</td>\n",
       "      <td>41230.285459</td>\n",
       "      <td>70142.865682</td>\n",
       "    </tr>\n",
       "    <tr>\n",
       "      <th>1</th>\n",
       "      <td>2</td>\n",
       "      <td>41282.377692</td>\n",
       "      <td>71479.340279</td>\n",
       "    </tr>\n",
       "    <tr>\n",
       "      <th>2</th>\n",
       "      <td>3</td>\n",
       "      <td>41333.112067</td>\n",
       "      <td>72755.266211</td>\n",
       "    </tr>\n",
       "    <tr>\n",
       "      <th>3</th>\n",
       "      <td>4</td>\n",
       "      <td>41392.955306</td>\n",
       "      <td>74399.561660</td>\n",
       "    </tr>\n",
       "    <tr>\n",
       "      <th>4</th>\n",
       "      <td>5</td>\n",
       "      <td>41503.609676</td>\n",
       "      <td>76116.243080</td>\n",
       "    </tr>\n",
       "    <tr>\n",
       "      <th>5</th>\n",
       "      <td>6</td>\n",
       "      <td>41561.061983</td>\n",
       "      <td>77827.793146</td>\n",
       "    </tr>\n",
       "    <tr>\n",
       "      <th>6</th>\n",
       "      <td>7</td>\n",
       "      <td>41624.149139</td>\n",
       "      <td>79507.756325</td>\n",
       "    </tr>\n",
       "  </tbody>\n",
       "</table>\n",
       "</div>"
      ],
      "text/plain": [
       "  Day  Incident rate before Delta surge  Incident rate after Delta surge\n",
       "0   1                      41230.285459                     70142.865682\n",
       "1   2                      41282.377692                     71479.340279\n",
       "2   3                      41333.112067                     72755.266211\n",
       "3   4                      41392.955306                     74399.561660\n",
       "4   5                      41503.609676                     76116.243080\n",
       "5   6                      41561.061983                     77827.793146\n",
       "6   7                      41624.149139                     79507.756325"
      ]
     },
     "execution_count": 71,
     "metadata": {},
     "output_type": "execute_result"
    }
   ],
   "source": [
    "# Initialize list of lists\n",
    "data_india_ir = [['1', d1_isum, d51_isum], ['2', d2_isum, d52_isum], ['3', d3_isum, d53_isum], ['4', d4_isum, d54_isum], ['5', d5_isum, d55_isum], ['6', d6_isum, d56_isum], ['7', d7_isum, d57_isum]]\n",
    " \n",
    "# Create the pandas DataFrame\n",
    "data_india_ir1 = pd.DataFrame(data_india_ir, columns = ['Day', 'Incident rate before Delta surge', 'Incident rate after Delta surge'])\n",
    " \n",
    "# print dataframe.\n",
    "data_india_ir1"
   ]
  },
  {
   "cell_type": "code",
   "execution_count": 72,
   "id": "fb468f47",
   "metadata": {},
   "outputs": [
    {
     "data": {
      "image/png": "[encoded data removed]",
      "text/plain": [
       "<Figure size 720x504 with 1 Axes>"
      ]
     },
     "metadata": {},
     "output_type": "display_data"
    }
   ],
   "source": [
    "# Analayze the data using box plot\n",
    "\n",
    "data_india_ir1.plot(kind='box', figsize=(10,7))\n",
    "plt.title('Box plots of Incident rate in India before and after Delta variant surge')\n",
    "plt.xlabel('Incident Rate')\n",
    "plt.show()"
   ]
  },
  {
   "cell_type": "markdown",
   "id": "50340b62",
   "metadata": {},
   "source": [
    "## Note\n",
    "\n",
    "If data above for incident rate is aggregated, it would be more accurate to analyze not cumulative numbers, so the difference between the days is analyzed below."
   ]
  },
  {
   "cell_type": "code",
   "execution_count": 73,
   "id": "17b480a2",
   "metadata": {},
   "outputs": [
    {
     "data": {
      "text/html": [
       "<div>\n",
       "<style scoped>\n",
       "    .dataframe tbody tr th:only-of-type {\n",
       "        vertical-align: middle;\n",
       "    }\n",
       "\n",
       "    .dataframe tbody tr th {\n",
       "        vertical-align: top;\n",
       "    }\n",
       "\n",
       "    .dataframe thead th {\n",
       "        text-align: right;\n",
       "    }\n",
       "</style>\n",
       "<table border=\"1\" class=\"dataframe\">\n",
       "  <thead>\n",
       "    <tr style=\"text-align: right;\">\n",
       "      <th></th>\n",
       "      <th>Day</th>\n",
       "      <th>Incident rate before Delta surge</th>\n",
       "      <th>Incident rate after Delta surge</th>\n",
       "    </tr>\n",
       "  </thead>\n",
       "  <tbody>\n",
       "    <tr>\n",
       "      <th>0</th>\n",
       "      <td>1</td>\n",
       "      <td>52.092233</td>\n",
       "      <td>1336.474598</td>\n",
       "    </tr>\n",
       "    <tr>\n",
       "      <th>1</th>\n",
       "      <td>2</td>\n",
       "      <td>50.734376</td>\n",
       "      <td>1275.925931</td>\n",
       "    </tr>\n",
       "    <tr>\n",
       "      <th>2</th>\n",
       "      <td>3</td>\n",
       "      <td>59.843239</td>\n",
       "      <td>1644.295449</td>\n",
       "    </tr>\n",
       "    <tr>\n",
       "      <th>3</th>\n",
       "      <td>4</td>\n",
       "      <td>110.654369</td>\n",
       "      <td>1716.681420</td>\n",
       "    </tr>\n",
       "    <tr>\n",
       "      <th>4</th>\n",
       "      <td>5</td>\n",
       "      <td>57.452307</td>\n",
       "      <td>1711.550066</td>\n",
       "    </tr>\n",
       "    <tr>\n",
       "      <th>5</th>\n",
       "      <td>6</td>\n",
       "      <td>63.087156</td>\n",
       "      <td>1679.963179</td>\n",
       "    </tr>\n",
       "  </tbody>\n",
       "</table>\n",
       "</div>"
      ],
      "text/plain": [
       "  Day  Incident rate before Delta surge  Incident rate after Delta surge\n",
       "0   1                         52.092233                      1336.474598\n",
       "1   2                         50.734376                      1275.925931\n",
       "2   3                         59.843239                      1644.295449\n",
       "3   4                        110.654369                      1716.681420\n",
       "4   5                         57.452307                      1711.550066\n",
       "5   6                         63.087156                      1679.963179"
      ]
     },
     "execution_count": 73,
     "metadata": {},
     "output_type": "execute_result"
    }
   ],
   "source": [
    "#Analysis of not aggregated data (difference between the days is taken)\n",
    "# Initialize list of lists\n",
    "data_india_ir_notaggr = [['1', d2_isum-d1_isum, d52_isum-d51_isum], ['2', d3_isum-d2_isum, d53_isum-d52_isum], ['3', d4_isum-d3_isum, d54_isum-d53_isum], ['4', d5_isum-d4_isum, d55_isum-d54_isum], ['5', d6_isum-d5_isum, d56_isum-d55_isum], ['6', d7_isum-d6_isum, d57_isum-d56_isum]]\n",
    " \n",
    "# Create the pandas DataFrame\n",
    "data_india_ir1_notaggr = pd.DataFrame(data_india_ir_notaggr, columns = ['Day', 'Incident rate before Delta surge', 'Incident rate after Delta surge'])\n",
    " \n",
    "# print dataframe.\n",
    "data_india_ir1_notaggr"
   ]
  },
  {
   "cell_type": "code",
   "execution_count": 74,
   "id": "2e055f08",
   "metadata": {},
   "outputs": [
    {
     "data": {
      "image/png": "[encoded data removed]",
      "text/plain": [
       "<Figure size 720x504 with 1 Axes>"
      ]
     },
     "metadata": {},
     "output_type": "display_data"
    }
   ],
   "source": [
    "# Analayze the data using box plot\n",
    "\n",
    "data_india_ir1_notaggr.plot(kind='box', figsize=(10,7))\n",
    "plt.title('Box plots of Incident rate in India before and after Delta variant surge [not aggregated]')\n",
    "plt.xlabel('Incident Rate')\n",
    "plt.show()"
   ]
  },
  {
   "cell_type": "code",
   "execution_count": 75,
   "id": "1ad74798",
   "metadata": {},
   "outputs": [
    {
     "data": {
      "image/png": "[encoded data removed]",
      "text/plain": [
       "<Figure size 720x504 with 1 Axes>"
      ]
     },
     "metadata": {},
     "output_type": "display_data"
    }
   ],
   "source": [
    "# To see more features of the box plot for \"before the Delta surge\", logarithmic scale can be used as below:\n",
    "data_india_ir1_notaggr.plot(kind='box', figsize=(10,7))\n",
    "plt.yscale(\"log\")\n",
    "plt.title('Box plots of Incident rate in India before and after Delta variant surge [not aggregated]')\n",
    "plt.xlabel('Incident Rate')\n",
    "plt.show()"
   ]
  },
  {
   "cell_type": "code",
   "execution_count": 76,
   "id": "11425e10",
   "metadata": {},
   "outputs": [
    {
     "name": "stdout",
     "output_type": "stream",
     "text": [
      "65.64394664451174\n",
      "1560.8151072640758\n",
      "23.77698458193738\n"
     ]
    }
   ],
   "source": [
    "# Ccompare the means of incicdent rates for after and before the surge:\n",
    "\n",
    "mean_before_i=data_india_ir1_notaggr[\"Incident rate before Delta surge\"].mean()\n",
    "print(mean_before_i)\n",
    "mean_after_i=data_india_ir1_notaggr[\"Incident rate after Delta surge\"].mean()\n",
    "print(mean_after_i)\n",
    "factor_i=mean_after_i/mean_before_i\n",
    "print(factor_i)"
   ]
  },
  {
   "cell_type": "markdown",
   "id": "4badf84e",
   "metadata": {},
   "source": [
    "## Part 2. USA case"
   ]
  },
  {
   "cell_type": "code",
   "execution_count": 77,
   "id": "eec873b0",
   "metadata": {},
   "outputs": [
    {
     "name": "stdout",
     "output_type": "stream",
     "text": [
      "32284434.93365147\n"
     ]
    }
   ],
   "source": [
    "#USA incident rate on each specific day before delta surge June 21-27. June 21:\n",
    "\n",
    "data1_us = pd.read_csv('06-21-2021.csv')\n",
    "#data1_us.head() (used to check the data)\n",
    "\n",
    "data1_us.set_index(\"Country_Region\", inplace = True)\n",
    "d1_us=data1_us.loc[\"US\",\"Incident_Rate\"]\n",
    "#print(d1_us) (used to check the data)\n",
    "d1_ussum=d1_us.sum()\n",
    "print(d1_ussum)"
   ]
  },
  {
   "cell_type": "code",
   "execution_count": 78,
   "id": "dcf8c676",
   "metadata": {},
   "outputs": [
    {
     "name": "stdout",
     "output_type": "stream",
     "text": [
      "32297741.354965337\n"
     ]
    }
   ],
   "source": [
    "# Same for other days. June 22:\n",
    "\n",
    "data2_us = pd.read_csv('06-22-2021.csv')\n",
    "#data2_us.head() (used to check the data)\n",
    "\n",
    "data2_us.set_index(\"Country_Region\", inplace = True)\n",
    "d2_us=data2_us.loc[\"US\",\"Incident_Rate\"]\n",
    "#print(d2_us) (used to check the data)\n",
    "d2_ussum=d2_us.sum()\n",
    "print(d2_ussum)"
   ]
  },
  {
   "cell_type": "code",
   "execution_count": 79,
   "id": "c39da699",
   "metadata": {},
   "outputs": [
    {
     "name": "stdout",
     "output_type": "stream",
     "text": [
      "32312468.623821616\n"
     ]
    }
   ],
   "source": [
    "# Same for other days. June 23:\n",
    "\n",
    "data3_us = pd.read_csv('06-23-2021.csv')\n",
    "#data3_us.head() (used to check the data)\n",
    "\n",
    "data3_us.set_index(\"Country_Region\", inplace = True)\n",
    "d3_us=data3_us.loc[\"US\",\"Incident_Rate\"]\n",
    "#print(d3_us) (used to check the data)\n",
    "d3_ussum=d3_us.sum()\n",
    "print(d3_ussum)"
   ]
  },
  {
   "cell_type": "code",
   "execution_count": 80,
   "id": "57e7d34a",
   "metadata": {},
   "outputs": [
    {
     "name": "stdout",
     "output_type": "stream",
     "text": [
      "32327810.575916387\n"
     ]
    }
   ],
   "source": [
    "# Same for other days. June 24:\n",
    "\n",
    "data4_us = pd.read_csv('06-24-2021.csv')\n",
    "#data4_us.head() (used to check the data)\n",
    "\n",
    "data4_us.set_index(\"Country_Region\", inplace = True)\n",
    "d4_us=data4_us.loc[\"US\",\"Incident_Rate\"]\n",
    "#print(d4_us) (used to check the data)\n",
    "d4_ussum=d4_us.sum()\n",
    "print(d4_ussum)"
   ]
  },
  {
   "cell_type": "code",
   "execution_count": 81,
   "id": "8bc0b906",
   "metadata": {},
   "outputs": [
    {
     "name": "stdout",
     "output_type": "stream",
     "text": [
      "32341988.8845871\n"
     ]
    }
   ],
   "source": [
    "# Same for other days. June 25:\n",
    "\n",
    "data5_us = pd.read_csv('06-25-2021.csv')\n",
    "#data5_us.head() (used to check the data)\n",
    "\n",
    "data5_us.set_index(\"Country_Region\", inplace = True)\n",
    "d5_us=data5_us.loc[\"US\",\"Incident_Rate\"]\n",
    "#print(d5_us) (used to check the data)\n",
    "d5_ussum=d5_us.sum()\n",
    "print(d5_ussum)"
   ]
  },
  {
   "cell_type": "code",
   "execution_count": 82,
   "id": "b273f002",
   "metadata": {},
   "outputs": [
    {
     "name": "stdout",
     "output_type": "stream",
     "text": [
      "32354225.793705508\n"
     ]
    }
   ],
   "source": [
    "# Same for other days. June 26:\n",
    "\n",
    "data6_us = pd.read_csv('06-26-2021.csv')\n",
    "#data6_us.head() (used to check the data)\n",
    "\n",
    "data6_us.set_index(\"Country_Region\", inplace = True)\n",
    "d6_us=data6_us.loc[\"US\",\"Incident_Rate\"]\n",
    "#print(d6_us) (used to check the data)\n",
    "d6_ussum=d6_us.sum()\n",
    "print(d6_ussum)"
   ]
  },
  {
   "cell_type": "code",
   "execution_count": 83,
   "id": "d2c01bc3",
   "metadata": {},
   "outputs": [
    {
     "name": "stdout",
     "output_type": "stream",
     "text": [
      "32357727.168001756\n"
     ]
    }
   ],
   "source": [
    "# Same for other days. June 27:\n",
    "\n",
    "data7_us = pd.read_csv('06-27-2021.csv')\n",
    "#data7_us.head() (used to check the data)\n",
    "\n",
    "data7_us.set_index(\"Country_Region\", inplace = True)\n",
    "d7_us=data7_us.loc[\"US\",\"Incident_Rate\"]\n",
    "#print(d7_us) (used to check the data)\n",
    "d7_ussum=d7_us.sum()\n",
    "print(d7_ussum)"
   ]
  },
  {
   "cell_type": "code",
   "execution_count": 84,
   "id": "706e4691",
   "metadata": {},
   "outputs": [
    {
     "name": "stdout",
     "output_type": "stream",
     "text": [
      "36319844.26329509\n"
     ]
    }
   ],
   "source": [
    "#USA incident rate on each specific day after delta surge August 21-27. August 21:\n",
    "\n",
    "data81_us = pd.read_csv('08-21-2021.csv')\n",
    "#data81_us.head() (used to check the data)\n",
    "\n",
    "data81_us.set_index(\"Country_Region\", inplace = True)\n",
    "d81_us=data81_us.loc[\"US\",\"Incident_Rate\"]\n",
    "#print(d81_us) (used to check the data)\n",
    "d81_ussum=d81_us.sum()\n",
    "print(d81_ussum)"
   ]
  },
  {
   "cell_type": "code",
   "execution_count": 85,
   "id": "11fa49d7",
   "metadata": {},
   "outputs": [
    {
     "name": "stdout",
     "output_type": "stream",
     "text": [
      "36342123.07896735\n"
     ]
    }
   ],
   "source": [
    "# Same for other days. August 22:\n",
    "\n",
    "\n",
    "data82_us = pd.read_csv('08-22-2021.csv')\n",
    "#data82_us.head() (used to check the data)\n",
    "\n",
    "data82_us.set_index(\"Country_Region\", inplace = True)\n",
    "d82_us=data82_us.loc[\"US\",\"Incident_Rate\"]\n",
    "#print(d82_us) (used to check the data)\n",
    "d82_ussum=d82_us.sum()\n",
    "print(d82_ussum)"
   ]
  },
  {
   "cell_type": "code",
   "execution_count": 86,
   "id": "323bb2be",
   "metadata": {},
   "outputs": [
    {
     "name": "stdout",
     "output_type": "stream",
     "text": [
      "36617096.65098278\n"
     ]
    }
   ],
   "source": [
    "# Same for other days. August 23:\n",
    "\n",
    "data83_us = pd.read_csv('08-23-2021.csv')\n",
    "#data83_us.head() (used to check the data)\n",
    "\n",
    "data83_us.set_index(\"Country_Region\", inplace = True)\n",
    "d83_us=data83_us.loc[\"US\",\"Incident_Rate\"]\n",
    "#print(d83_us) (used to check the data)\n",
    "d83_ussum=d83_us.sum()\n",
    "print(d83_ussum)"
   ]
  },
  {
   "cell_type": "code",
   "execution_count": 87,
   "id": "a907ad2c",
   "metadata": {},
   "outputs": [
    {
     "name": "stdout",
     "output_type": "stream",
     "text": [
      "36791238.9657033\n"
     ]
    }
   ],
   "source": [
    "# Same for other days. August 24:\n",
    "\n",
    "data84_us = pd.read_csv('08-24-2021.csv')\n",
    "#data84_us.head() (used to check the data)\n",
    "\n",
    "data84_us.set_index(\"Country_Region\", inplace = True)\n",
    "d84_us=data84_us.loc[\"US\",\"Incident_Rate\"]\n",
    "#print(d84_us) (used to check the data)\n",
    "d84_ussum=d84_us.sum()\n",
    "print(d84_ussum)"
   ]
  },
  {
   "cell_type": "code",
   "execution_count": 88,
   "id": "cd4ad465",
   "metadata": {},
   "outputs": [
    {
     "name": "stdout",
     "output_type": "stream",
     "text": [
      "37083943.091895625\n"
     ]
    }
   ],
   "source": [
    "# Same for other days. August 25:\n",
    "\n",
    "data85_us = pd.read_csv('08-25-2021.csv')\n",
    "#data85_us.head() (used to check the data)\n",
    "\n",
    "data85_us.set_index(\"Country_Region\", inplace = True)\n",
    "d85_us=data85_us.loc[\"US\",\"Incident_Rate\"]\n",
    "#print(d85_us) (used to check the data)\n",
    "d85_ussum=d85_us.sum()\n",
    "print(d85_ussum)"
   ]
  },
  {
   "cell_type": "code",
   "execution_count": 89,
   "id": "74c1be44",
   "metadata": {},
   "outputs": [
    {
     "name": "stdout",
     "output_type": "stream",
     "text": [
      "37238934.23442498\n"
     ]
    }
   ],
   "source": [
    "# Same for other days. August 26:\n",
    "\n",
    "data86_us = pd.read_csv('08-26-2021.csv')\n",
    "#data86_us.head() (used to check the data)\n",
    "\n",
    "data86_us.set_index(\"Country_Region\", inplace = True)\n",
    "d86_us=data86_us.loc[\"US\",\"Incident_Rate\"]\n",
    "#print(d86_us) (used to check the data)\n",
    "d86_ussum=d86_us.sum()\n",
    "print(d86_ussum)"
   ]
  },
  {
   "cell_type": "code",
   "execution_count": 90,
   "id": "fed42cbe",
   "metadata": {},
   "outputs": [
    {
     "name": "stdout",
     "output_type": "stream",
     "text": [
      "37500068.55184513\n"
     ]
    }
   ],
   "source": [
    "# Same for other days. August 27:\n",
    "\n",
    "data87_us = pd.read_csv('08-27-2021.csv')\n",
    "#data87_us.head() (used to check the data)\n",
    "\n",
    "data87_us.set_index(\"Country_Region\", inplace = True)\n",
    "d87_us=data87_us.loc[\"US\",\"Incident_Rate\"]\n",
    "#print(d87_us) (used to check the data)\n",
    "d87_ussum=d87_us.sum()\n",
    "print(d87_ussum)"
   ]
  },
  {
   "cell_type": "code",
   "execution_count": 91,
   "id": "f02d68be",
   "metadata": {},
   "outputs": [
    {
     "data": {
      "text/html": [
       "<div>\n",
       "<style scoped>\n",
       "    .dataframe tbody tr th:only-of-type {\n",
       "        vertical-align: middle;\n",
       "    }\n",
       "\n",
       "    .dataframe tbody tr th {\n",
       "        vertical-align: top;\n",
       "    }\n",
       "\n",
       "    .dataframe thead th {\n",
       "        text-align: right;\n",
       "    }\n",
       "</style>\n",
       "<table border=\"1\" class=\"dataframe\">\n",
       "  <thead>\n",
       "    <tr style=\"text-align: right;\">\n",
       "      <th></th>\n",
       "      <th>Day</th>\n",
       "      <th>Incident rate before Delta surge</th>\n",
       "      <th>Incident rate after Delta surge</th>\n",
       "    </tr>\n",
       "  </thead>\n",
       "  <tbody>\n",
       "    <tr>\n",
       "      <th>0</th>\n",
       "      <td>1</td>\n",
       "      <td>3.228443e+07</td>\n",
       "      <td>3.631984e+07</td>\n",
       "    </tr>\n",
       "    <tr>\n",
       "      <th>1</th>\n",
       "      <td>2</td>\n",
       "      <td>3.229774e+07</td>\n",
       "      <td>3.634212e+07</td>\n",
       "    </tr>\n",
       "    <tr>\n",
       "      <th>2</th>\n",
       "      <td>3</td>\n",
       "      <td>3.231247e+07</td>\n",
       "      <td>3.661710e+07</td>\n",
       "    </tr>\n",
       "    <tr>\n",
       "      <th>3</th>\n",
       "      <td>4</td>\n",
       "      <td>3.232781e+07</td>\n",
       "      <td>3.679124e+07</td>\n",
       "    </tr>\n",
       "    <tr>\n",
       "      <th>4</th>\n",
       "      <td>5</td>\n",
       "      <td>3.234199e+07</td>\n",
       "      <td>3.708394e+07</td>\n",
       "    </tr>\n",
       "    <tr>\n",
       "      <th>5</th>\n",
       "      <td>6</td>\n",
       "      <td>3.235423e+07</td>\n",
       "      <td>3.723893e+07</td>\n",
       "    </tr>\n",
       "    <tr>\n",
       "      <th>6</th>\n",
       "      <td>7</td>\n",
       "      <td>3.235773e+07</td>\n",
       "      <td>3.750007e+07</td>\n",
       "    </tr>\n",
       "  </tbody>\n",
       "</table>\n",
       "</div>"
      ],
      "text/plain": [
       "  Day  Incident rate before Delta surge  Incident rate after Delta surge\n",
       "0   1                      3.228443e+07                     3.631984e+07\n",
       "1   2                      3.229774e+07                     3.634212e+07\n",
       "2   3                      3.231247e+07                     3.661710e+07\n",
       "3   4                      3.232781e+07                     3.679124e+07\n",
       "4   5                      3.234199e+07                     3.708394e+07\n",
       "5   6                      3.235423e+07                     3.723893e+07\n",
       "6   7                      3.235773e+07                     3.750007e+07"
      ]
     },
     "execution_count": 91,
     "metadata": {},
     "output_type": "execute_result"
    }
   ],
   "source": [
    "# Initialize list of lists\n",
    "data_us_ir = [['1', d1_ussum, d81_ussum], ['2', d2_ussum, d82_ussum], ['3', d3_ussum, d83_ussum], ['4', d4_ussum, d84_ussum], ['5', d5_ussum, d85_ussum], ['6', d6_ussum, d86_ussum], ['7', d7_ussum, d87_ussum]]\n",
    " \n",
    "# Create the pandas DataFrame\n",
    "data_us_ir1 = pd.DataFrame(data_us_ir, columns = ['Day', 'Incident rate before Delta surge', 'Incident rate after Delta surge'])\n",
    " \n",
    "# print dataframe.\n",
    "data_us_ir1"
   ]
  },
  {
   "cell_type": "code",
   "execution_count": 92,
   "id": "b468abae",
   "metadata": {},
   "outputs": [
    {
     "data": {
      "image/png": "[encoded data removed]",
      "text/plain": [
       "<Figure size 720x504 with 1 Axes>"
      ]
     },
     "metadata": {},
     "output_type": "display_data"
    }
   ],
   "source": [
    "# Analayze the data using box plot\n",
    "\n",
    "data_us_ir1.plot(kind='box', figsize=(10,7))\n",
    "plt.title('Box plots of Incident rate in US before and after Delta variant surge')\n",
    "plt.xlabel('Incident Rate')\n",
    "plt.show()"
   ]
  },
  {
   "cell_type": "markdown",
   "id": "9bdd0c14",
   "metadata": {},
   "source": [
    "## Note\n",
    "\n",
    "Similarly here, if data above for incident rate is aggregated, it would be more accurate to analyze not cumulative numbers, so the difference between the days is analyzed below."
   ]
  },
  {
   "cell_type": "code",
   "execution_count": 93,
   "id": "8dcb86f6",
   "metadata": {},
   "outputs": [
    {
     "data": {
      "text/html": [
       "<div>\n",
       "<style scoped>\n",
       "    .dataframe tbody tr th:only-of-type {\n",
       "        vertical-align: middle;\n",
       "    }\n",
       "\n",
       "    .dataframe tbody tr th {\n",
       "        vertical-align: top;\n",
       "    }\n",
       "\n",
       "    .dataframe thead th {\n",
       "        text-align: right;\n",
       "    }\n",
       "</style>\n",
       "<table border=\"1\" class=\"dataframe\">\n",
       "  <thead>\n",
       "    <tr style=\"text-align: right;\">\n",
       "      <th></th>\n",
       "      <th>Day</th>\n",
       "      <th>Incident rate before Delta surge</th>\n",
       "      <th>Incident rate after Delta surge</th>\n",
       "    </tr>\n",
       "  </thead>\n",
       "  <tbody>\n",
       "    <tr>\n",
       "      <th>0</th>\n",
       "      <td>1</td>\n",
       "      <td>13306.421314</td>\n",
       "      <td>22278.815672</td>\n",
       "    </tr>\n",
       "    <tr>\n",
       "      <th>1</th>\n",
       "      <td>2</td>\n",
       "      <td>14727.268856</td>\n",
       "      <td>274973.572015</td>\n",
       "    </tr>\n",
       "    <tr>\n",
       "      <th>2</th>\n",
       "      <td>3</td>\n",
       "      <td>15341.952095</td>\n",
       "      <td>174142.314721</td>\n",
       "    </tr>\n",
       "    <tr>\n",
       "      <th>3</th>\n",
       "      <td>4</td>\n",
       "      <td>14178.308671</td>\n",
       "      <td>292704.126192</td>\n",
       "    </tr>\n",
       "    <tr>\n",
       "      <th>4</th>\n",
       "      <td>5</td>\n",
       "      <td>12236.909118</td>\n",
       "      <td>154991.142529</td>\n",
       "    </tr>\n",
       "    <tr>\n",
       "      <th>5</th>\n",
       "      <td>6</td>\n",
       "      <td>3501.374296</td>\n",
       "      <td>261134.317420</td>\n",
       "    </tr>\n",
       "  </tbody>\n",
       "</table>\n",
       "</div>"
      ],
      "text/plain": [
       "  Day  Incident rate before Delta surge  Incident rate after Delta surge\n",
       "0   1                      13306.421314                     22278.815672\n",
       "1   2                      14727.268856                    274973.572015\n",
       "2   3                      15341.952095                    174142.314721\n",
       "3   4                      14178.308671                    292704.126192\n",
       "4   5                      12236.909118                    154991.142529\n",
       "5   6                       3501.374296                    261134.317420"
      ]
     },
     "execution_count": 93,
     "metadata": {},
     "output_type": "execute_result"
    }
   ],
   "source": [
    "#Analysis of not aggregated data (difference between the days is taken)\n",
    "\n",
    "# Initialize list of lists\n",
    "data_us_ir_notaggr = [['1', d2_ussum-d1_ussum, d82_ussum-d81_ussum], ['2', d3_ussum-d2_ussum, d83_ussum-d82_ussum], ['3', d4_ussum-d3_ussum, d84_ussum-d83_ussum], ['4', d5_ussum-d4_ussum, d85_ussum-d84_ussum], ['5', d6_ussum-d5_ussum, d86_ussum-d85_ussum], ['6', d7_ussum-d6_ussum, d87_ussum-d86_ussum]]\n",
    " \n",
    "# Create the pandas DataFrame\n",
    "data_us_ir1_notaggr = pd.DataFrame(data_us_ir_notaggr, columns = ['Day', 'Incident rate before Delta surge', 'Incident rate after Delta surge'])\n",
    " \n",
    "# print dataframe.\n",
    "data_us_ir1_notaggr"
   ]
  },
  {
   "cell_type": "code",
   "execution_count": 94,
   "id": "641815a9",
   "metadata": {},
   "outputs": [
    {
     "data": {
      "image/png": "[encoded data removed]",
      "text/plain": [
       "<Figure size 720x504 with 1 Axes>"
      ]
     },
     "metadata": {},
     "output_type": "display_data"
    }
   ],
   "source": [
    "# Analayze the data using box plot\n",
    "\n",
    "data_us_ir1_notaggr.plot(kind='box', figsize=(10,7))\n",
    "plt.title('Box plots of Incident rate in US before and after Delta variant surge [not aggregated]')\n",
    "plt.xlabel('Incident Rate')\n",
    "plt.show()"
   ]
  },
  {
   "cell_type": "code",
   "execution_count": 95,
   "id": "5800248d",
   "metadata": {},
   "outputs": [
    {
     "data": {
      "image/png": "[encoded data removed]",
      "text/plain": [
       "<Figure size 720x504 with 1 Axes>"
      ]
     },
     "metadata": {},
     "output_type": "display_data"
    }
   ],
   "source": [
    "# To see more features of the box plot for \"before the Delta surge\", logarithmic scale can be used as below:\n",
    "\n",
    "data_us_ir1_notaggr.plot(kind='box', figsize=(10,7))\n",
    "plt.yscale(\"log\")\n",
    "plt.title('Box plots of Incident rate in US before and after Delta variant surge [not aggregated]')\n",
    "plt.xlabel('Incident Rate')\n",
    "plt.show()"
   ]
  },
  {
   "cell_type": "code",
   "execution_count": 96,
   "id": "b0a96221",
   "metadata": {},
   "outputs": [
    {
     "name": "stdout",
     "output_type": "stream",
     "text": [
      "12215.372391714403\n",
      "196704.0480916736\n",
      "16.102992343082107\n"
     ]
    }
   ],
   "source": [
    "# Ccompare the means of incident rates for after and before the surge:\n",
    "\n",
    "mean_before_us=data_us_ir1_notaggr[\"Incident rate before Delta surge\"].mean()\n",
    "print(mean_before_us)\n",
    "mean_after_us=data_us_ir1_notaggr[\"Incident rate after Delta surge\"].mean()\n",
    "print(mean_after_us)\n",
    "factor_us=mean_after_us/mean_before_us\n",
    "print(factor_us)"
   ]
  },
  {
   "cell_type": "markdown",
   "id": "488c076b",
   "metadata": {},
   "source": [
    "# Summary\n",
    "\n",
    "* It can be seen that for both India and the USA the incident rate has significantly increased when Delta strain became the dominant variant. This proves that the Delta variant is more contagious than other covid variants.\n",
    "* The box plots of both countries also demonstrate that for the period of \"after Delta surge\" the variation between the cases number is higher than in the \"before Delta surge\" period, meaning that a larger difference between maximum and minimum is present. This can be the result of spikes of some Delta hotspots on certain days, which is hard to predict.\n",
    "* The factor of increase incident rate increase before and after delta surge (means considered) for India was around 23 and for the USA was around 16.\n",
    "* Indeed, India was more affected with many severe cases of covid delta strain, many hospitalizations, and deaths. \n",
    "* This can be attributed to the higher density of population with the easier spread of the virus and probably lower number of people who had access to reasonable healthcare help, as well as other factors."
   ]
  },
  {
   "cell_type": "markdown",
   "id": "ace23aa6",
   "metadata": {},
   "source": [
    "## Reference\n",
    "https://www.vox.com/coronavirus-covid19/22628806/india-covid-19-cases-deaths-delta-variant\n",
    "\n",
    "https://en.wikipedia.org/wiki/SARS-CoV-2_Delta_variant\n",
    "\n",
    "https://www.yalemedicine.org/news/5-things-to-know-delta-variant-covid\n",
    "\n",
    "https://www.washingtonpost.com/health/2021/07/16/covid-cases-rising/\n",
    "\n",
    "https://www.bbc.com/news/health-57525891\n",
    "\n",
    "https://www.bmj.com/content/373/bmj.n1596"
   ]
  },
  {
   "cell_type": "code",
   "execution_count": null,
   "id": "8037d89e",
   "metadata": {},
   "outputs": [],
   "source": []
  }
 ],
 "metadata": {
  "kernelspec": {
   "display_name": "Python 3",
   "language": "python",
   "name": "python3"
  },
  "language_info": {
   "codemirror_mode": {
    "name": "ipython",
    "version": 3
   },
   "file_extension": ".py",
   "mimetype": "text/x-python",
   "name": "python",
   "nbconvert_exporter": "python",
   "pygments_lexer": "ipython3",
   "version": "3.8.8"
  }
 },
 "nbformat": 4,
 "nbformat_minor": 5
}
