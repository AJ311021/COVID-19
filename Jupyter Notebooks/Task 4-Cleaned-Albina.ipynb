{
 "cells": [
  {
   "cell_type": "markdown",
   "id": "7b849ce8",
   "metadata": {},
   "source": [
    "## Albina Jetybayeva. DSE511. Project 1.\n",
    "\n",
    "\n",
    "# Task 4. Analyze the effect of major holidays on Covid cases\n",
    "\n",
    "The analysis of the impact of holidays on the confirmed new covid cases in different countries will be done, where 2 countries are chosen: the USA and Kazakhstan. The cases will be calculated as the aggregated number of new cases over 2 weeks before and 2 weeks after the actual holiday. These numbers will be compared. The holidays will be chosen as follows.\n",
    "\n",
    "The USA's major holidays:\n",
    "* Thanksgiving [November 26]\n",
    "* Independence Day [July 4]\n",
    "* Christmas [December 25]\n",
    "\n",
    "Kazakhstan's major holidays:\n",
    "* New Year [January 1]\n",
    "* Nauryz (Nomadic New Year) [March 22]\n",
    "* Unity Day [May 1]\n",
    "\n",
    "The covid cases of both countries will be compared to these major holidays.\n",
    "As the cases are accumulated in the data file, the total new cases over the 2 weeks period will be calculated as follows:\n",
    "\n",
    "[New cases for the period BEFORE the holiday] = [Confirmed cases on the holiday] - [Confirmed cases on a day 2 weeks before the holiday]\n",
    "\n",
    "Similarly for after the holiday period:\n",
    "\n",
    "[New cases for the period AFTER the holiday] = [Confirmed cases on a day 2 weeks after the holiday] - [Confirmed cases on the holiday]"
   ]
  },
  {
   "cell_type": "code",
   "execution_count": 1,
   "id": "28ca1c96",
   "metadata": {},
   "outputs": [],
   "source": [
    "#First load the necessary packages:\n",
    "\n",
    "import pandas as pd\n",
    "import numpy as np\n",
    "import matplotlib as mpl\n",
    "import matplotlib.pyplot as plt"
   ]
  },
  {
   "cell_type": "code",
   "execution_count": 2,
   "id": "5c4466f8",
   "metadata": {},
   "outputs": [
    {
     "name": "stdout",
     "output_type": "stream",
     "text": [
      "    Province/State      Country/Region        Lat        Long  1/22/20  \\\n",
      "0              NaN         Afghanistan  33.939110   67.709953        0   \n",
      "1              NaN             Albania  41.153300   20.168300        0   \n",
      "2              NaN             Algeria  28.033900    1.659600        0   \n",
      "3              NaN             Andorra  42.506300    1.521800        0   \n",
      "4              NaN              Angola -11.202700   17.873900        0   \n",
      "..             ...                 ...        ...         ...      ...   \n",
      "274            NaN             Vietnam  14.058324  108.277199        0   \n",
      "275            NaN  West Bank and Gaza  31.952200   35.233200        0   \n",
      "276            NaN               Yemen  15.552727   48.516388        0   \n",
      "277            NaN              Zambia -13.133897   27.849332        0   \n",
      "278            NaN            Zimbabwe -19.015438   29.154857        0   \n",
      "\n",
      "     1/23/20  1/24/20  1/25/20  1/26/20  1/27/20  ...  8/29/21  8/30/21  \\\n",
      "0          0        0        0        0        0  ...   152960   153148   \n",
      "1          0        0        0        0        0  ...   144847   145333   \n",
      "2          0        0        0        0        0  ...   195162   195574   \n",
      "3          0        0        0        0        0  ...    15025    15032   \n",
      "4          0        0        0        0        0  ...    47168    47331   \n",
      "..       ...      ...      ...      ...      ...  ...      ...      ...   \n",
      "274        2        2        2        2        2  ...   435265   449489   \n",
      "275        0        0        0        0        0  ...   337405   339816   \n",
      "276        0        0        0        0        0  ...     7784     7829   \n",
      "277        0        0        0        0        0  ...   206051   206145   \n",
      "278        0        0        0        0        0  ...   124437   124581   \n",
      "\n",
      "     8/31/21  9/1/21  9/2/21  9/3/21  9/4/21  9/5/21  9/6/21  9/7/21  \n",
      "0     153220  153260  153306  153375  153375  153375  153534  153626  \n",
      "1     146387  147369  148222  149117  150101  150997  151499  152239  \n",
      "2     196080  196527  196915  197308  197659  198004  198313  198645  \n",
      "3      15033   15046   15052   15055   15055   15055   15069   15070  \n",
      "4      47544   47781   48004   48261   48475   48656   48790   49114  \n",
      "..       ...     ...     ...     ...     ...     ...     ...     ...  \n",
      "274   462096  473530  486727  501649  511170  524307  536788  550996  \n",
      "275   342282  344957  347730  350224  351809  353732  356474  359236  \n",
      "276     7869    7900    7951    8018    8056    8108    8142    8181  \n",
      "277   206327  206522  206705  206884  207028  207114  207167  207294  \n",
      "278   124773  124960  125118  125331  125425  125550  125671  125796  \n",
      "\n",
      "[279 rows x 599 columns]\n"
     ]
    },
    {
     "data": {
      "text/html": [
       "<div>\n",
       "<style scoped>\n",
       "    .dataframe tbody tr th:only-of-type {\n",
       "        vertical-align: middle;\n",
       "    }\n",
       "\n",
       "    .dataframe tbody tr th {\n",
       "        vertical-align: top;\n",
       "    }\n",
       "\n",
       "    .dataframe thead th {\n",
       "        text-align: right;\n",
       "    }\n",
       "</style>\n",
       "<table border=\"1\" class=\"dataframe\">\n",
       "  <thead>\n",
       "    <tr style=\"text-align: right;\">\n",
       "      <th></th>\n",
       "      <th>Province/State</th>\n",
       "      <th>Country/Region</th>\n",
       "      <th>Lat</th>\n",
       "      <th>Long</th>\n",
       "      <th>1/22/20</th>\n",
       "      <th>1/23/20</th>\n",
       "      <th>1/24/20</th>\n",
       "      <th>1/25/20</th>\n",
       "      <th>1/26/20</th>\n",
       "      <th>1/27/20</th>\n",
       "      <th>...</th>\n",
       "      <th>8/29/21</th>\n",
       "      <th>8/30/21</th>\n",
       "      <th>8/31/21</th>\n",
       "      <th>9/1/21</th>\n",
       "      <th>9/2/21</th>\n",
       "      <th>9/3/21</th>\n",
       "      <th>9/4/21</th>\n",
       "      <th>9/5/21</th>\n",
       "      <th>9/6/21</th>\n",
       "      <th>9/7/21</th>\n",
       "    </tr>\n",
       "  </thead>\n",
       "  <tbody>\n",
       "    <tr>\n",
       "      <th>0</th>\n",
       "      <td>NaN</td>\n",
       "      <td>Afghanistan</td>\n",
       "      <td>33.93911</td>\n",
       "      <td>67.709953</td>\n",
       "      <td>0</td>\n",
       "      <td>0</td>\n",
       "      <td>0</td>\n",
       "      <td>0</td>\n",
       "      <td>0</td>\n",
       "      <td>0</td>\n",
       "      <td>...</td>\n",
       "      <td>152960</td>\n",
       "      <td>153148</td>\n",
       "      <td>153220</td>\n",
       "      <td>153260</td>\n",
       "      <td>153306</td>\n",
       "      <td>153375</td>\n",
       "      <td>153375</td>\n",
       "      <td>153375</td>\n",
       "      <td>153534</td>\n",
       "      <td>153626</td>\n",
       "    </tr>\n",
       "    <tr>\n",
       "      <th>1</th>\n",
       "      <td>NaN</td>\n",
       "      <td>Albania</td>\n",
       "      <td>41.15330</td>\n",
       "      <td>20.168300</td>\n",
       "      <td>0</td>\n",
       "      <td>0</td>\n",
       "      <td>0</td>\n",
       "      <td>0</td>\n",
       "      <td>0</td>\n",
       "      <td>0</td>\n",
       "      <td>...</td>\n",
       "      <td>144847</td>\n",
       "      <td>145333</td>\n",
       "      <td>146387</td>\n",
       "      <td>147369</td>\n",
       "      <td>148222</td>\n",
       "      <td>149117</td>\n",
       "      <td>150101</td>\n",
       "      <td>150997</td>\n",
       "      <td>151499</td>\n",
       "      <td>152239</td>\n",
       "    </tr>\n",
       "    <tr>\n",
       "      <th>2</th>\n",
       "      <td>NaN</td>\n",
       "      <td>Algeria</td>\n",
       "      <td>28.03390</td>\n",
       "      <td>1.659600</td>\n",
       "      <td>0</td>\n",
       "      <td>0</td>\n",
       "      <td>0</td>\n",
       "      <td>0</td>\n",
       "      <td>0</td>\n",
       "      <td>0</td>\n",
       "      <td>...</td>\n",
       "      <td>195162</td>\n",
       "      <td>195574</td>\n",
       "      <td>196080</td>\n",
       "      <td>196527</td>\n",
       "      <td>196915</td>\n",
       "      <td>197308</td>\n",
       "      <td>197659</td>\n",
       "      <td>198004</td>\n",
       "      <td>198313</td>\n",
       "      <td>198645</td>\n",
       "    </tr>\n",
       "    <tr>\n",
       "      <th>3</th>\n",
       "      <td>NaN</td>\n",
       "      <td>Andorra</td>\n",
       "      <td>42.50630</td>\n",
       "      <td>1.521800</td>\n",
       "      <td>0</td>\n",
       "      <td>0</td>\n",
       "      <td>0</td>\n",
       "      <td>0</td>\n",
       "      <td>0</td>\n",
       "      <td>0</td>\n",
       "      <td>...</td>\n",
       "      <td>15025</td>\n",
       "      <td>15032</td>\n",
       "      <td>15033</td>\n",
       "      <td>15046</td>\n",
       "      <td>15052</td>\n",
       "      <td>15055</td>\n",
       "      <td>15055</td>\n",
       "      <td>15055</td>\n",
       "      <td>15069</td>\n",
       "      <td>15070</td>\n",
       "    </tr>\n",
       "    <tr>\n",
       "      <th>4</th>\n",
       "      <td>NaN</td>\n",
       "      <td>Angola</td>\n",
       "      <td>-11.20270</td>\n",
       "      <td>17.873900</td>\n",
       "      <td>0</td>\n",
       "      <td>0</td>\n",
       "      <td>0</td>\n",
       "      <td>0</td>\n",
       "      <td>0</td>\n",
       "      <td>0</td>\n",
       "      <td>...</td>\n",
       "      <td>47168</td>\n",
       "      <td>47331</td>\n",
       "      <td>47544</td>\n",
       "      <td>47781</td>\n",
       "      <td>48004</td>\n",
       "      <td>48261</td>\n",
       "      <td>48475</td>\n",
       "      <td>48656</td>\n",
       "      <td>48790</td>\n",
       "      <td>49114</td>\n",
       "    </tr>\n",
       "  </tbody>\n",
       "</table>\n",
       "<p>5 rows × 599 columns</p>\n",
       "</div>"
      ],
      "text/plain": [
       "  Province/State Country/Region       Lat       Long  1/22/20  1/23/20  \\\n",
       "0            NaN    Afghanistan  33.93911  67.709953        0        0   \n",
       "1            NaN        Albania  41.15330  20.168300        0        0   \n",
       "2            NaN        Algeria  28.03390   1.659600        0        0   \n",
       "3            NaN        Andorra  42.50630   1.521800        0        0   \n",
       "4            NaN         Angola -11.20270  17.873900        0        0   \n",
       "\n",
       "   1/24/20  1/25/20  1/26/20  1/27/20  ...  8/29/21  8/30/21  8/31/21  9/1/21  \\\n",
       "0        0        0        0        0  ...   152960   153148   153220  153260   \n",
       "1        0        0        0        0  ...   144847   145333   146387  147369   \n",
       "2        0        0        0        0  ...   195162   195574   196080  196527   \n",
       "3        0        0        0        0  ...    15025    15032    15033   15046   \n",
       "4        0        0        0        0  ...    47168    47331    47544   47781   \n",
       "\n",
       "   9/2/21  9/3/21  9/4/21  9/5/21  9/6/21  9/7/21  \n",
       "0  153306  153375  153375  153375  153534  153626  \n",
       "1  148222  149117  150101  150997  151499  152239  \n",
       "2  196915  197308  197659  198004  198313  198645  \n",
       "3   15052   15055   15055   15055   15069   15070  \n",
       "4   48004   48261   48475   48656   48790   49114  \n",
       "\n",
       "[5 rows x 599 columns]"
      ]
     },
     "execution_count": 2,
     "metadata": {},
     "output_type": "execute_result"
    }
   ],
   "source": [
    "#Extract the main data file for the confirmed cases:\n",
    "\n",
    "data = pd.read_csv('time_series_covid19_confirmed_global.csv')\n",
    "print(data)\n",
    "data.head()"
   ]
  },
  {
   "cell_type": "markdown",
   "id": "9fa31e84",
   "metadata": {},
   "source": [
    "## Part 1. The USA's major holidays. Thanksgiving."
   ]
  },
  {
   "cell_type": "code",
   "execution_count": 3,
   "id": "00c9d364",
   "metadata": {},
   "outputs": [
    {
     "name": "stdout",
     "output_type": "stream",
     "text": [
      "13006455\n"
     ]
    }
   ],
   "source": [
    "#Extract data from the file for the USA Thanksgiving holiday date:\n",
    "\n",
    "data1 = data.set_index(\"Country/Region\", drop = False)\n",
    "th1_usa=data1.loc[\"US\", \"11/26/20\"]\n",
    "print(th1_usa)"
   ]
  },
  {
   "cell_type": "code",
   "execution_count": 4,
   "id": "9d81e692",
   "metadata": {},
   "outputs": [
    {
     "name": "stdout",
     "output_type": "stream",
     "text": [
      "10660154\n"
     ]
    }
   ],
   "source": [
    "#Extract data from the file for the USA 2 weeks before Thanksgiving holiday date:\n",
    "\n",
    "th2_usa=data1.loc[\"US\", \"11/12/20\"]\n",
    "print(th2_usa)"
   ]
  },
  {
   "cell_type": "code",
   "execution_count": 5,
   "id": "5e28ef51",
   "metadata": {},
   "outputs": [
    {
     "name": "stdout",
     "output_type": "stream",
     "text": [
      "2346301\n"
     ]
    }
   ],
   "source": [
    "#Find the total new cases for the period of 2 weeks before holiday:\n",
    "\n",
    "th_usa_b=th1_usa-th2_usa\n",
    "print(th_usa_b)"
   ]
  },
  {
   "cell_type": "code",
   "execution_count": 6,
   "id": "511feac0",
   "metadata": {},
   "outputs": [
    {
     "name": "stdout",
     "output_type": "stream",
     "text": [
      "16028086\n"
     ]
    }
   ],
   "source": [
    "#Extract data from the file for the USA 2 weeks after Thanksgiving holiday date:\n",
    "\n",
    "th3_usa=data1.loc[\"US\", \"12/11/20\"]\n",
    "print(th3_usa)"
   ]
  },
  {
   "cell_type": "code",
   "execution_count": 7,
   "id": "5d330406",
   "metadata": {},
   "outputs": [
    {
     "name": "stdout",
     "output_type": "stream",
     "text": [
      "3021631\n"
     ]
    }
   ],
   "source": [
    "#Find the total new cases for the period of 2 weeks after holiday:\n",
    "\n",
    "th_usa_af=th3_usa-th1_usa\n",
    "print(th_usa_af)"
   ]
  },
  {
   "cell_type": "code",
   "execution_count": 8,
   "id": "bf81a2c7",
   "metadata": {},
   "outputs": [
    {
     "name": "stdout",
     "output_type": "stream",
     "text": [
      "170808\n",
      "158036\n",
      "12772\n",
      "184557\n",
      "13749\n"
     ]
    }
   ],
   "source": [
    "#The same procedure for Kazakhstan (Just to compare and contrast two countries later)\n",
    "\n",
    "th1_kz=data1.loc[\"Kazakhstan\", \"11/26/20\"]\n",
    "print(th1_kz)\n",
    "th2_kz=data1.loc[\"Kazakhstan\", \"11/12/20\"]\n",
    "print(th2_kz)\n",
    "th_kz_b=th1_kz-th2_kz\n",
    "print(th_kz_b)\n",
    "th3_kz=data1.loc[\"Kazakhstan\", \"12/11/20\"]\n",
    "print(th3_kz)\n",
    "th_kz_af=th3_kz-th1_kz\n",
    "print(th_kz_af)"
   ]
  },
  {
   "cell_type": "markdown",
   "id": "da1f9e2a",
   "metadata": {},
   "source": [
    "# Part 2. Independence Day. 4th July."
   ]
  },
  {
   "cell_type": "code",
   "execution_count": 9,
   "id": "d7082b2d",
   "metadata": {},
   "outputs": [
    {
     "name": "stdout",
     "output_type": "stream",
     "text": [
      "33717782\n",
      "33538065\n",
      "179717\n",
      "34079990\n",
      "362208\n"
     ]
    }
   ],
   "source": [
    "# Use the same file and extract the data for the USA and Independence Day dates:\n",
    "\n",
    "ju1_usa=data1.loc[\"US\", \"7/4/21\"]\n",
    "print(ju1_usa)\n",
    "ju2_usa=data1.loc[\"US\", \"6/19/21\"]\n",
    "print(ju2_usa)\n",
    "ju_usa_b=ju1_usa-ju2_usa\n",
    "print(ju_usa_b)\n",
    "ju3_usa=data1.loc[\"US\", \"7/18/21\"]\n",
    "print(ju3_usa)\n",
    "ju_usa_af=ju3_usa-ju1_usa\n",
    "print(ju_usa_af)"
   ]
  },
  {
   "cell_type": "code",
   "execution_count": 10,
   "id": "8187f5f5",
   "metadata": {},
   "outputs": [
    {
     "name": "stdout",
     "output_type": "stream",
     "text": [
      "491277\n",
      "464010\n",
      "27267\n",
      "547510\n",
      "56233\n"
     ]
    }
   ],
   "source": [
    "# Repeat for Kazakhstan and Independence Day dates:\n",
    "\n",
    "ju1_kz=data1.loc[\"Kazakhstan\", \"7/4/21\"]\n",
    "print(ju1_kz)\n",
    "ju2_kz=data1.loc[\"Kazakhstan\", \"6/19/21\"]\n",
    "print(ju2_kz)\n",
    "ju_kz_b=ju1_kz-ju2_kz\n",
    "print(ju_kz_b)\n",
    "ju3_kz=data1.loc[\"Kazakhstan\", \"7/18/21\"]\n",
    "print(ju3_kz)\n",
    "ju_kz_af=ju3_kz-ju1_kz\n",
    "print(ju_kz_af)"
   ]
  },
  {
   "cell_type": "markdown",
   "id": "7358776b",
   "metadata": {},
   "source": [
    "# Part 3. Christmas."
   ]
  },
  {
   "cell_type": "code",
   "execution_count": 11,
   "id": "33cd4916",
   "metadata": {},
   "outputs": [
    {
     "name": "stdout",
     "output_type": "stream",
     "text": [
      "18874122\n",
      "16028086\n",
      "2846036\n",
      "22011753\n",
      "3137631\n"
     ]
    }
   ],
   "source": [
    "# Use the same file and extract the data for the USA and Christmas dates:\n",
    "\n",
    "ch1_usa=data1.loc[\"US\", \"12/25/20\"]\n",
    "print(ch1_usa)\n",
    "ch2_usa=data1.loc[\"US\", \"12/11/20\"]\n",
    "print(ch2_usa)\n",
    "ch_usa_b=ch1_usa-ch2_usa\n",
    "print(ch_usa_b)\n",
    "ch3_usa=data1.loc[\"US\", \"1/8/21\"]\n",
    "print(ch3_usa)\n",
    "ch_usa_af=ch3_usa-ch1_usa\n",
    "print(ch_usa_af)"
   ]
  },
  {
   "cell_type": "code",
   "execution_count": 12,
   "id": "1f62891e",
   "metadata": {},
   "outputs": [
    {
     "name": "stdout",
     "output_type": "stream",
     "text": [
      "196216\n",
      "184557\n",
      "11659\n",
      "207683\n",
      "11467\n"
     ]
    }
   ],
   "source": [
    "# Repeat for Kazakhstan and Chrsitmas dates:\n",
    "\n",
    "ch1_kz=data1.loc[\"Kazakhstan\", \"12/25/20\"]\n",
    "print(ch1_kz)\n",
    "ch2_kz=data1.loc[\"Kazakhstan\", \"12/11/20\"]\n",
    "print(ch2_kz)\n",
    "ch_kz_b=ch1_kz-ch2_kz\n",
    "print(ch_kz_b)\n",
    "ch3_kz=data1.loc[\"Kazakhstan\", \"1/8/21\"]\n",
    "print(ch3_kz)\n",
    "ch_kz_af=ch3_kz-ch1_kz\n",
    "print(ch_kz_af)"
   ]
  },
  {
   "cell_type": "markdown",
   "id": "95477a06",
   "metadata": {},
   "source": [
    "# Part 4. Kazakhstan's major holidays. New Year."
   ]
  },
  {
   "cell_type": "code",
   "execution_count": 13,
   "id": "89a61080",
   "metadata": {},
   "outputs": [
    {
     "name": "stdout",
     "output_type": "stream",
     "text": [
      "202060\n",
      "190292\n",
      "11768\n",
      "213855\n",
      "11795\n"
     ]
    }
   ],
   "source": [
    "# Use the same file and extract the data for the KZ and New Year dates:\n",
    "\n",
    "ny1_kz=data1.loc[\"Kazakhstan\", \"1/1/21\"]\n",
    "print(ny1_kz)\n",
    "ny2_kz=data1.loc[\"Kazakhstan\", \"12/18/20\"]\n",
    "print(ny2_kz)\n",
    "ny_kz_b=ny1_kz-ny2_kz\n",
    "print(ny_kz_b)\n",
    "ny3_kz=data1.loc[\"Kazakhstan\", \"1/15/21\"]\n",
    "print(ny3_kz)\n",
    "ny_kz_af=ny3_kz-ny1_kz\n",
    "print(ny_kz_af)"
   ]
  },
  {
   "cell_type": "code",
   "execution_count": 14,
   "id": "6ef26cf1",
   "metadata": {},
   "outputs": [
    {
     "name": "stdout",
     "output_type": "stream",
     "text": [
      "20254160\n",
      "17575546\n",
      "2678614\n",
      "23636699\n",
      "3382539\n"
     ]
    }
   ],
   "source": [
    "# Repeat for the USA and New Year dates:\n",
    "\n",
    "ny1_usa=data1.loc[\"US\", \"1/1/21\"]\n",
    "print(ny1_usa)\n",
    "ny2_usa=data1.loc[\"US\", \"12/18/20\"]\n",
    "print(ny2_usa)\n",
    "ny_usa_b=ny1_usa-ny2_usa\n",
    "print(ny_usa_b)\n",
    "ny3_usa=data1.loc[\"US\", \"1/15/21\"]\n",
    "print(ny3_usa)\n",
    "ny_usa_af=ny3_usa-ny1_usa\n",
    "print(ny_usa_af)"
   ]
  },
  {
   "cell_type": "markdown",
   "id": "73a96409",
   "metadata": {},
   "source": [
    "# Part 5. Nauryz holiday"
   ]
  },
  {
   "cell_type": "code",
   "execution_count": 15,
   "id": "90037f38",
   "metadata": {},
   "outputs": [
    {
     "name": "stdout",
     "output_type": "stream",
     "text": [
      "284138\n",
      "268902\n",
      "15236\n",
      "307676\n",
      "23538\n"
     ]
    }
   ],
   "source": [
    "# Use the same file and extract the data for the KZ and Nauryz dates:\n",
    "\n",
    "n1_kz=data1.loc[\"Kazakhstan\", \"3/22/21\"]\n",
    "print(n1_kz)\n",
    "n2_kz=data1.loc[\"Kazakhstan\", \"3/8/21\"]\n",
    "print(n2_kz)\n",
    "n_kz_b=n1_kz-n2_kz\n",
    "print(n_kz_b)\n",
    "n3_kz=data1.loc[\"Kazakhstan\", \"4/5/21\"]\n",
    "print(n3_kz)\n",
    "n_kz_af=n3_kz-n1_kz\n",
    "print(n_kz_af)"
   ]
  },
  {
   "cell_type": "code",
   "execution_count": 16,
   "id": "8c936ca1",
   "metadata": {},
   "outputs": [
    {
     "name": "stdout",
     "output_type": "stream",
     "text": [
      "29876125\n",
      "29112547\n",
      "763578\n",
      "30789920\n",
      "913795\n"
     ]
    }
   ],
   "source": [
    "# Repeat for the USA and Nauryz dates:\n",
    "\n",
    "n1_usa=data1.loc[\"US\", \"3/22/21\"]\n",
    "print(n1_usa)\n",
    "n2_usa=data1.loc[\"US\", \"3/8/21\"]\n",
    "print(n2_usa)\n",
    "n_usa_b=n1_usa-n2_usa\n",
    "print(n_usa_b)\n",
    "n3_usa=data1.loc[\"US\", \"4/5/21\"]\n",
    "print(n3_usa)\n",
    "n_usa_af=n3_usa-n1_usa\n",
    "print(n_usa_af)\n"
   ]
  },
  {
   "cell_type": "markdown",
   "id": "6ee360b8",
   "metadata": {},
   "source": [
    "# Part 6. Unity Day. May 1."
   ]
  },
  {
   "cell_type": "code",
   "execution_count": 17,
   "id": "2213a447",
   "metadata": {},
   "outputs": [
    {
     "name": "stdout",
     "output_type": "stream",
     "text": [
      "378441\n",
      "338764\n",
      "39677\n",
      "412236\n",
      "33795\n"
     ]
    }
   ],
   "source": [
    "# Use the same file and extract the data for the KZ and Unity Day dates:\n",
    "\n",
    "m1_kz=data1.loc[\"Kazakhstan\", \"5/1/21\"]\n",
    "print(m1_kz)\n",
    "m2_kz=data1.loc[\"Kazakhstan\", \"4/17/21\"]\n",
    "print(m2_kz)\n",
    "m_kz_b=m1_kz-m2_kz\n",
    "print(m_kz_b)\n",
    "m3_kz=data1.loc[\"Kazakhstan\", \"5/15/21\"]\n",
    "print(m3_kz)\n",
    "m_kz_af=m3_kz-m1_kz\n",
    "print(m_kz_af)"
   ]
  },
  {
   "cell_type": "code",
   "execution_count": 18,
   "id": "378b1608",
   "metadata": {},
   "outputs": [
    {
     "name": "stdout",
     "output_type": "stream",
     "text": [
      "32396265\n",
      "31631770\n",
      "764495\n",
      "32927841\n",
      "531576\n"
     ]
    }
   ],
   "source": [
    "# Repeat for the USA and Unity Day dates:\n",
    "\n",
    "m1_usa=data1.loc[\"US\", \"5/1/21\"]\n",
    "print(m1_usa)\n",
    "m2_usa=data1.loc[\"US\", \"4/17/21\"]\n",
    "print(m2_usa)\n",
    "m_usa_b=m1_usa-m2_usa\n",
    "print(m_usa_b)\n",
    "m3_usa=data1.loc[\"US\", \"5/15/21\"]\n",
    "print(m3_usa)\n",
    "m_usa_af=m3_usa-m1_usa\n",
    "print(m_usa_af)"
   ]
  },
  {
   "cell_type": "code",
   "execution_count": 19,
   "id": "7377df07",
   "metadata": {},
   "outputs": [
    {
     "name": "stdout",
     "output_type": "stream",
     "text": [
      "[2346301, 179717, 2846036, 2678614, 763578, 764495]\n"
     ]
    }
   ],
   "source": [
    "# Create a list of the USA data (before)\n",
    "\n",
    "usa_before = [th_usa_b, ju_usa_b, ch_usa_b, ny_usa_b, n_usa_b, m_usa_b]\n",
    "print(usa_before)"
   ]
  },
  {
   "cell_type": "code",
   "execution_count": 20,
   "id": "278328b6",
   "metadata": {},
   "outputs": [
    {
     "name": "stdout",
     "output_type": "stream",
     "text": [
      "[3021631, 362208, 3137631, 3382539, 913795, 531576]\n"
     ]
    }
   ],
   "source": [
    "# Create a list of the USA data (after)\n",
    "\n",
    "usa_after = [th_usa_af, ju_usa_af, ch_usa_af, ny_usa_af, n_usa_af, m_usa_af]\n",
    "print(usa_after)"
   ]
  },
  {
   "cell_type": "code",
   "execution_count": 21,
   "id": "6fb22091",
   "metadata": {},
   "outputs": [
    {
     "data": {
      "image/png": "[encoded data removed]",
      "text/plain": [
       "<Figure size 432x288 with 1 Axes>"
      ]
     },
     "metadata": {},
     "output_type": "display_data"
    }
   ],
   "source": [
    "# Plot and observe the features of the USA case:\n",
    "\n",
    "mpl.style.use(['ggplot']) #use ggplot style\n",
    "x = ['Thanksgiving', '4th July', 'Christmas', 'New Year', 'Nauryz', 'Unity Day']\n",
    "x_pos = [i for i, _ in enumerate(x)]\n",
    "width = 0.3\n",
    "\n",
    "plt.bar(np.arange(len(usa_before)), usa_before, width=width, color='red', label='Before')\n",
    "plt.bar(np.arange(len(usa_after))+ width, usa_after, width=width, color='darkred', label='After')\n",
    "\n",
    "plt.xlabel(\"Holidays\")\n",
    "plt.ylabel(\"New Covid cases for a period of 2 weeks\")\n",
    "plt.title(\"USA covid cases before and after the holidays\", fontsize=12)\n",
    "plt.legend(loc='best')\n",
    "\n",
    "\n",
    "plt.xticks(x_pos, x)\n",
    "plt.show()"
   ]
  },
  {
   "cell_type": "code",
   "execution_count": 22,
   "id": "6e887773",
   "metadata": {},
   "outputs": [
    {
     "name": "stdout",
     "output_type": "stream",
     "text": [
      "[12772, 27267, 11659, 11768, 15236, 39677]\n"
     ]
    }
   ],
   "source": [
    "# Create a list of the Kazakhstan data (before)\n",
    "\n",
    "kz_before = [th_kz_b, ju_kz_b, ch_kz_b, ny_kz_b, n_kz_b, m_kz_b]\n",
    "print(kz_before)"
   ]
  },
  {
   "cell_type": "code",
   "execution_count": 23,
   "id": "e70f3153",
   "metadata": {},
   "outputs": [
    {
     "name": "stdout",
     "output_type": "stream",
     "text": [
      "[13749, 56233, 11467, 11795, 23538, 33795]\n"
     ]
    }
   ],
   "source": [
    "# Create a list of the Kazakhstan data (after)\n",
    "\n",
    "kz_after = [th_kz_af, ju_kz_af, ch_kz_af, ny_kz_af, n_kz_af, m_kz_af]\n",
    "print(kz_after)"
   ]
  },
  {
   "cell_type": "code",
   "execution_count": 24,
   "id": "a6f28ec5",
   "metadata": {},
   "outputs": [
    {
     "data": {
      "image/png": "[encoded data removed]",
      "text/plain": [
       "<Figure size 432x288 with 1 Axes>"
      ]
     },
     "metadata": {},
     "output_type": "display_data"
    }
   ],
   "source": [
    "# Plot and observe the features of the Kazakhstan case:\n",
    "\n",
    "x = ['Thanksgiving', '4th July', 'Christmas', 'New Year', 'Nauryz', 'Unity Day']\n",
    "x_pos = [i for i, _ in enumerate(x)]\n",
    "width = 0.3\n",
    "\n",
    "plt.bar(np.arange(len(kz_before)), kz_before, width=width, color='blue', label='Before')\n",
    "plt.bar(np.arange(len(kz_after))+ width, kz_after, width=width, color='darkblue', label='After')\n",
    "\n",
    "\n",
    "plt.xlabel(\"Holidays\")\n",
    "plt.ylabel(\"New Covid cases for a period of 2 weeks\")\n",
    "plt.title(\"KZ covid cases before and after the holidays\", fontsize=12)\n",
    "plt.legend(loc='best')\n",
    "\n",
    "\n",
    "plt.xticks(x_pos, x)\n",
    "plt.show()"
   ]
  },
  {
   "cell_type": "code",
   "execution_count": 25,
   "id": "29490442",
   "metadata": {},
   "outputs": [
    {
     "data": {
      "image/png": "[encoded data removed]",
      "text/plain": [
       "<Figure size 640x480 with 2 Axes>"
      ]
     },
     "metadata": {},
     "output_type": "display_data"
    }
   ],
   "source": [
    "# Plot both countries to compare with each other:\n",
    "\n",
    "mpl.style.use(['default']) #use ggplot style\n",
    "\n",
    "width = 0.3\n",
    "\n",
    "\n",
    "idx = np.arange(len(usa_before))-0.3\n",
    "\n",
    "fig, ax7 = plt.subplots()\n",
    "ax7.bar(idx, usa_before, width=0.2, color='red', label='USA_Before')\n",
    "ax7.bar(idx+0.2, usa_after, width=0.2, color='darkred', label ='USA_After')\n",
    "\n",
    "\n",
    "\n",
    "ax8 = ax7.twinx()  # instantiate a second axes that shares the same x-axis\n",
    "ax8.bar(idx + 0.4, kz_before, width=0.2, color='blue', label='KZ_Before')\n",
    "ax8.bar(idx + 0.6, kz_after, width=0.2, color='darkblue', label ='KZ_After')\n",
    "\n",
    "\n",
    "ax7.set_ylabel('New Covid cases for a period of 2 weeks_USA', fontsize=11)\n",
    "ax7.set_xlabel('Holidays')\n",
    "ax7.set_title('US&KZ comparison of holidays effect on covid cases', fontsize=11)\n",
    "ax7.set_xticks(idx)\n",
    "ax7.set_xticklabels(('Thanksgiving', '4th July', 'Christmas', 'New Year', 'Nauryz', 'Unity Day'))\n",
    "ax7.legend(loc=2)\n",
    "ax8.legend(loc=1)\n",
    "ax8.set_ylabel('New Covid cases for a period of 2 weeks_KZ', fontsize=11)\n",
    "\n",
    "fig.tight_layout()\n",
    "plt.show()"
   ]
  },
  {
   "cell_type": "code",
   "execution_count": 26,
   "id": "f64cec0d",
   "metadata": {},
   "outputs": [
    {
     "name": "stdout",
     "output_type": "stream",
     "text": [
      "['Solarize_Light2', '_classic_test_patch', 'bmh', 'classic', 'dark_background', 'fast', 'fivethirtyeight', 'ggplot', 'grayscale', 'seaborn', 'seaborn-bright', 'seaborn-colorblind', 'seaborn-dark', 'seaborn-dark-palette', 'seaborn-darkgrid', 'seaborn-deep', 'seaborn-muted', 'seaborn-notebook', 'seaborn-paper', 'seaborn-pastel', 'seaborn-poster', 'seaborn-talk', 'seaborn-ticks', 'seaborn-white', 'seaborn-whitegrid', 'tableau-colorblind10']\n"
     ]
    }
   ],
   "source": [
    "#Used this to play around with the styles of plots\n",
    "print(plt.style.available)"
   ]
  },
  {
   "cell_type": "markdown",
   "id": "5c3e8cc7",
   "metadata": {},
   "source": [
    "# Summary\n",
    "\n",
    "### For the USA\n",
    "\n",
    "* The certain increase in the new covid cases was observed after all major USA holidays: Thanksgiving, 4th of July, and Christmas. This confirms the expectation of the wider spread of the virus with holidays, as more people travel and have gatherings at that time.\n",
    "* It could be also seen that for the USA's New Year holiday the cases have risen and this can be attributed to the fact that Christmas and New Year are very close to each other and people have long holidays at this period, which results in more travels again and higher chances of spreading the virus.\n",
    "* Interestingly, the small growth of covid cases was observed in the period of Kazakh holiday Nauryz, which coincidence with a spring break period for the USA (March 9-April 21). And as it is known again travels are increased within the free time of people and parents take their families for trips. Thus, probably such a trend was shown.\n",
    "* The Unity day, being an unrelated holiday to the USA did not demonstrate and cases growth.\n",
    "\n",
    "### For Kazakhstan\n",
    "\n",
    "* The trends are less consistent due to other factors.\n",
    "* Among all major national holidays only Nauryz showed the larger number of cases for the \"after holiday\" period. That might have happened because Kazakhsanis had the weekend on March 20-21, then official off days for March 22-24, a small gap of 2 working days, and then the weekend again. So many people traveled around that quite long period, by taking their own days off for the 2 gap working days and having around 10 days in total. That might have caused the increase of virus spread.\n",
    "* In contrast, the Unity Day was on Saturday so people had only 1 extra day of holiday on Monday so not many of them had trips.\n",
    "* New Year and Christmas did not show increased value for new covid cases, since at that period stricter lockdown rules have been implemented. Also, the weather was very cold and snowy, so transportation was limited at that time.\n",
    "* For thanksgiving not much big difference in cases was detected, as it is not a holiday for Kazakhstan and people do not celebrate it.\n",
    "* Interestingly, more than the double increase of the cases was seen in the period of 4th of July. That is mainly due to the long summer vacation period in Kazakhstan for school and university students. So many families have trips and gatherings during that period. Summer is also the best time to travel since in winter, spring, and fall weather is mostly not favorable. Thus, in Kazakhstan in general, the largest covid waves happened in summers 2020 and 2021. \n",
    "\n",
    "### Overall\n",
    "\n",
    "Comparing the USA and Kazakhstan obviously the number of cases is much smaller for Kazakhstan, as the population and density are significantly lower.\n",
    "\n",
    "Nevertheless, the impact of holidays is very clear. The increased travels and gatherings definitely cause higher numbers of new covid cases.\n"
   ]
  },
  {
   "cell_type": "markdown",
   "id": "dbb39126",
   "metadata": {},
   "source": [
    "## Reference\n",
    "\n",
    "https://www.nature.com/articles/d41586-020-03545-1\n",
    "\n",
    "https://www.cidrap.umn.edu/news-perspective/2021/07/states-report-increase-covid-19-cases-over-holiday\n",
    "\n",
    "https://www.cnn.com/2020/12/26/health/us-coronavirus-saturday/index.html\n",
    "\n",
    "https://www.usatoday.com/story/travel/news/2021/03/22/spring-break-2021-travel-millions-board-flights-amid-covid-pandemic/4796301001/\n",
    "\n",
    "https://abcnews.go.com/Health/potential-post-holiday-covid-19-surge-catastrophic-impact/story?id=74859998"
   ]
  },
  {
   "cell_type": "code",
   "execution_count": null,
   "id": "cda88f49",
   "metadata": {},
   "outputs": [],
   "source": []
  }
 ],
 "metadata": {
  "kernelspec": {
   "display_name": "Python 3",
   "language": "python",
   "name": "python3"
  },
  "language_info": {
   "codemirror_mode": {
    "name": "ipython",
    "version": 3
   },
   "file_extension": ".py",
   "mimetype": "text/x-python",
   "name": "python",
   "nbconvert_exporter": "python",
   "pygments_lexer": "ipython3",
   "version": "3.8.8"
  }
 },
 "nbformat": 4,
 "nbformat_minor": 5
}
